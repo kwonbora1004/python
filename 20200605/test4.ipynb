{
 "cells": [
  {
   "cell_type": "code",
   "execution_count": 40,
   "metadata": {},
   "outputs": [
    {
     "output_type": "display_data",
     "data": {
      "text/plain": "<Figure size 432x288 with 1 Axes>",
      "image/svg+xml": "<?xml version=\"1.0\" encoding=\"utf-8\" standalone=\"no\"?>\r\n<!DOCTYPE svg PUBLIC \"-//W3C//DTD SVG 1.1//EN\"\r\n  \"http://www.w3.org/Graphics/SVG/1.1/DTD/svg11.dtd\">\r\n<!-- Created with matplotlib (https://matplotlib.org/) -->\r\n<svg height=\"249.526789pt\" version=\"1.1\" viewBox=\"0 0 378.23125 249.526789\" width=\"378.23125pt\" xmlns=\"http://www.w3.org/2000/svg\" xmlns:xlink=\"http://www.w3.org/1999/xlink\">\r\n <defs>\r\n  <style type=\"text/css\">\r\n*{stroke-linecap:butt;stroke-linejoin:round;}\r\n  </style>\r\n </defs>\r\n <g id=\"figure_1\">\r\n  <g id=\"patch_1\">\r\n   <path d=\"M 0 249.526789 \r\nL 378.23125 249.526789 \r\nL 378.23125 0 \r\nL 0 0 \r\nz\r\n\" style=\"fill:none;\"/>\r\n  </g>\r\n  <g id=\"axes_1\">\r\n   <g id=\"patch_2\">\r\n    <path d=\"M 36.23125 225.370539 \r\nL 371.03125 225.370539 \r\nL 371.03125 7.930539 \r\nL 36.23125 7.930539 \r\nz\r\n\" style=\"fill:#ffffff;\"/>\r\n   </g>\r\n   <g id=\"patch_3\">\r\n    <path clip-path=\"url(#p2701fe1fc5)\" d=\"M 51.449432 225.370539 \r\nL 186.722159 225.370539 \r\nL 186.722159 18.284825 \r\nL 51.449432 18.284825 \r\nz\r\n\" style=\"fill:#1f77b4;\"/>\r\n   </g>\r\n   <g id=\"patch_4\">\r\n    <path clip-path=\"url(#p2701fe1fc5)\" d=\"M 220.540341 225.370539 \r\nL 355.813068 225.370539 \r\nL 355.813068 31.790415 \r\nL 220.540341 31.790415 \r\nz\r\n\" style=\"fill:#1f77b4;\"/>\r\n   </g>\r\n   <g id=\"matplotlib.axis_1\">\r\n    <g id=\"xtick_1\">\r\n     <g id=\"line2d_1\">\r\n      <defs>\r\n       <path d=\"M 0 0 \r\nL 0 3.5 \r\n\" id=\"mf18b2b4291\" style=\"stroke:#000000;stroke-width:0.8;\"/>\r\n      </defs>\r\n      <g>\r\n       <use style=\"stroke:#000000;stroke-width:0.8;\" x=\"119.085795\" xlink:href=\"#mf18b2b4291\" y=\"225.370539\"/>\r\n      </g>\r\n     </g>\r\n     <g id=\"text_1\">\r\n      <!-- 남 -->\r\n      <defs>\r\n       <path d=\"M 80.078125 55.90625 \r\nL 80.078125 33.109375 \r\nL 72.796875 33.109375 \r\nL 72.796875 85.40625 \r\nL 80.078125 85.40625 \r\nL 80.078125 62.5 \r\nL 94.28125 62.5 \r\nL 94.28125 55.90625 \r\nz\r\nM 66.609375 44.28125 \r\nQ 58.453125 42.09375 14.3125 42.09375 \r\nL 14.3125 81.59375 \r\nL 21.578125 81.59375 \r\nL 21.578125 48.578125 \r\nL 28.03125 48.578125 \r\nQ 55.515625 48.578125 65.71875 50.59375 \r\nz\r\nM 22.90625 -6.59375 \r\nL 22.90625 27.875 \r\nL 80.078125 27.875 \r\nL 80.078125 -6.59375 \r\nz\r\nM 72.90625 21.390625 \r\nL 30.078125 21.390625 \r\nL 30.078125 -0.09375 \r\nL 72.90625 -0.09375 \r\nz\r\n\" id=\"MalgunGothic-45224\"/>\r\n      </defs>\r\n      <g transform=\"translate(114.085795 239.962727)scale(0.1 -0.1)\">\r\n       <use xlink:href=\"#MalgunGothic-45224\"/>\r\n      </g>\r\n     </g>\r\n    </g>\r\n    <g id=\"xtick_2\">\r\n     <g id=\"line2d_2\">\r\n      <g>\r\n       <use style=\"stroke:#000000;stroke-width:0.8;\" x=\"288.176705\" xlink:href=\"#mf18b2b4291\" y=\"225.370539\"/>\r\n      </g>\r\n     </g>\r\n     <g id=\"text_2\">\r\n      <!-- 여 -->\r\n      <defs>\r\n       <path d=\"M 56.296875 27.984375 \r\nQ 49.859375 15.09375 36.1875 15.09375 \r\nQ 25.484375 15.09375 18.9375 23.6875 \r\nQ 12.40625 32.28125 12.40625 47.125 \r\nQ 12.40625 62.109375 18.875 70.609375 \r\nQ 25.34375 79.109375 36.1875 79.109375 \r\nQ 49.90625 79.109375 56.296875 66.3125 \r\nL 76.421875 66.3125 \r\nL 76.421875 85.40625 \r\nL 83.6875 85.40625 \r\nL 83.6875 -8.796875 \r\nL 76.421875 -8.796875 \r\nL 76.421875 27.984375 \r\nz\r\nM 36.1875 72.609375 \r\nQ 28.71875 72.609375 24.09375 65.671875 \r\nQ 19.484375 58.734375 19.484375 47.125 \r\nQ 19.484375 35.546875 24.140625 28.5625 \r\nQ 28.8125 21.578125 36.1875 21.578125 \r\nQ 43.5 21.578125 48.1875 28.609375 \r\nQ 52.875 35.640625 52.875 47.125 \r\nQ 52.875 58.84375 48.28125 65.71875 \r\nQ 43.703125 72.609375 36.1875 72.609375 \r\nz\r\nM 58.59375 34.421875 \r\nL 76.421875 34.421875 \r\nL 76.421875 59.8125 \r\nL 58.59375 59.8125 \r\nQ 60.109375 54.34375 60.109375 47.125 \r\nQ 60.109375 39.796875 58.59375 34.421875 \r\nz\r\n\" id=\"MalgunGothic-50668\"/>\r\n      </defs>\r\n      <g transform=\"translate(283.176705 239.962727)scale(0.1 -0.1)\">\r\n       <use xlink:href=\"#MalgunGothic-50668\"/>\r\n      </g>\r\n     </g>\r\n    </g>\r\n   </g>\r\n   <g id=\"matplotlib.axis_2\">\r\n    <g id=\"ytick_1\">\r\n     <g id=\"line2d_3\">\r\n      <defs>\r\n       <path d=\"M 0 0 \r\nL -3.5 0 \r\n\" id=\"m6e9110bcfe\" style=\"stroke:#000000;stroke-width:0.8;\"/>\r\n      </defs>\r\n      <g>\r\n       <use style=\"stroke:#000000;stroke-width:0.8;\" x=\"36.23125\" xlink:href=\"#m6e9110bcfe\" y=\"225.370539\"/>\r\n      </g>\r\n     </g>\r\n     <g id=\"text_3\">\r\n      <!-- 0 -->\r\n      <defs>\r\n       <path d=\"M 4.34375 34.46875 \r\nQ 4.34375 53.515625 10.546875 63.28125 \r\nQ 16.75 73.046875 28.421875 73.046875 \r\nQ 50.828125 73.046875 50.828125 36.234375 \r\nQ 50.828125 18.0625 44.59375 8.421875 \r\nQ 38.375 -1.21875 26.8125 -1.21875 \r\nQ 15.875 -1.21875 10.109375 8.125 \r\nQ 4.34375 17.484375 4.34375 34.46875 \r\nz\r\nM 12.25 34.859375 \r\nQ 12.25 5.375 27.640625 5.375 \r\nQ 42.921875 5.375 42.921875 35.296875 \r\nQ 42.921875 66.40625 28.03125 66.40625 \r\nQ 12.25 66.40625 12.25 34.859375 \r\nz\r\n\" id=\"MalgunGothic-48\"/>\r\n      </defs>\r\n      <g transform=\"translate(23.723438 229.166633)scale(0.1 -0.1)\">\r\n       <use xlink:href=\"#MalgunGothic-48\"/>\r\n      </g>\r\n     </g>\r\n    </g>\r\n    <g id=\"ytick_2\">\r\n     <g id=\"line2d_4\">\r\n      <g>\r\n       <use style=\"stroke:#000000;stroke-width:0.8;\" x=\"36.23125\" xlink:href=\"#m6e9110bcfe\" y=\"182.49565\"/>\r\n      </g>\r\n     </g>\r\n     <g id=\"text_4\">\r\n      <!-- 200 -->\r\n      <defs>\r\n       <path d=\"M 39.359375 52.6875 \r\nQ 39.359375 59.125 35.546875 62.78125 \r\nQ 31.734375 66.453125 25.4375 66.453125 \r\nQ 20.953125 66.453125 16.453125 64.125 \r\nQ 11.96875 61.8125 8.34375 57.765625 \r\nL 8.34375 66.15625 \r\nQ 15.328125 73.046875 26.421875 73.046875 \r\nQ 35.640625 73.046875 41.28125 67.71875 \r\nQ 46.921875 62.40625 46.921875 53.375 \r\nQ 46.921875 45.609375 43.3125 39.765625 \r\nQ 39.703125 33.9375 31 27.734375 \r\nQ 22.796875 21.96875 19.59375 18.984375 \r\nQ 16.40625 16.015625 15.109375 13.34375 \r\nQ 13.8125 10.6875 13.8125 7.03125 \r\nL 48.6875 7.03125 \r\nL 48.6875 0 \r\nL 5.5625 0 \r\nL 5.5625 3.515625 \r\nQ 5.5625 9.421875 7.203125 13.59375 \r\nQ 8.84375 17.78125 12.671875 21.75 \r\nQ 16.5 25.734375 24.953125 31.59375 \r\nQ 32.671875 36.921875 36.015625 41.71875 \r\nQ 39.359375 46.53125 39.359375 52.6875 \r\nz\r\n\" id=\"MalgunGothic-50\"/>\r\n      </defs>\r\n      <g transform=\"translate(12.707813 186.291744)scale(0.1 -0.1)\">\r\n       <use xlink:href=\"#MalgunGothic-50\"/>\r\n       <use x=\"55.078125\" xlink:href=\"#MalgunGothic-48\"/>\r\n       <use x=\"110.15625\" xlink:href=\"#MalgunGothic-48\"/>\r\n      </g>\r\n     </g>\r\n    </g>\r\n    <g id=\"ytick_3\">\r\n     <g id=\"line2d_5\">\r\n      <g>\r\n       <use style=\"stroke:#000000;stroke-width:0.8;\" x=\"36.23125\" xlink:href=\"#m6e9110bcfe\" y=\"139.620761\"/>\r\n      </g>\r\n     </g>\r\n     <g id=\"text_5\">\r\n      <!-- 400 -->\r\n      <defs>\r\n       <path d=\"M 42.234375 71.875 \r\nL 42.234375 24.421875 \r\nL 51.703125 24.421875 \r\nL 51.703125 17.390625 \r\nL 42.234375 17.390625 \r\nL 42.234375 0 \r\nL 34.578125 0 \r\nL 34.578125 17.390625 \r\nL 0.78125 17.390625 \r\nL 0.78125 23.96875 \r\nQ 11.375 35.890625 20.234375 48.578125 \r\nQ 29.109375 61.28125 33.9375 71.875 \r\nz\r\nM 9.765625 24.421875 \r\nL 34.578125 24.421875 \r\nL 34.578125 59.859375 \r\nQ 25.203125 43.5625 14.984375 30.953125 \r\nz\r\n\" id=\"MalgunGothic-52\"/>\r\n      </defs>\r\n      <g transform=\"translate(12.707813 143.416855)scale(0.1 -0.1)\">\r\n       <use xlink:href=\"#MalgunGothic-52\"/>\r\n       <use x=\"55.078125\" xlink:href=\"#MalgunGothic-48\"/>\r\n       <use x=\"110.15625\" xlink:href=\"#MalgunGothic-48\"/>\r\n      </g>\r\n     </g>\r\n    </g>\r\n    <g id=\"ytick_4\">\r\n     <g id=\"line2d_6\">\r\n      <g>\r\n       <use style=\"stroke:#000000;stroke-width:0.8;\" x=\"36.23125\" xlink:href=\"#m6e9110bcfe\" y=\"96.745872\"/>\r\n      </g>\r\n     </g>\r\n     <g id=\"text_6\">\r\n      <!-- 600 -->\r\n      <defs>\r\n       <path d=\"M 46.578125 63.578125 \r\nQ 40.921875 66.40625 34.8125 66.40625 \r\nQ 24.859375 66.40625 19.1875 57.640625 \r\nQ 13.53125 48.875 13.578125 34.578125 \r\nL 13.8125 34.578125 \r\nQ 18.796875 44.875 30.28125 44.875 \r\nQ 39.796875 44.875 45.359375 38.71875 \r\nQ 50.921875 32.5625 50.921875 22.65625 \r\nQ 50.921875 12.453125 44.640625 5.609375 \r\nQ 38.375 -1.21875 28.515625 -1.21875 \r\nQ 17.4375 -1.21875 11.5 7.46875 \r\nQ 5.5625 16.15625 5.5625 31.546875 \r\nQ 5.5625 49.703125 13.234375 61.375 \r\nQ 20.90625 73.046875 34.71875 73.046875 \r\nQ 42.1875 73.046875 46.578125 71 \r\nz\r\nM 14.15625 23.53125 \r\nQ 14.15625 15.96875 18.203125 10.671875 \r\nQ 22.265625 5.375 28.8125 5.375 \r\nQ 35.109375 5.375 39.03125 10.078125 \r\nQ 42.96875 14.796875 42.96875 21.6875 \r\nQ 42.96875 29.5 39.203125 33.859375 \r\nQ 35.453125 38.234375 28.71875 38.234375 \r\nQ 22.5625 38.234375 18.359375 33.953125 \r\nQ 14.15625 29.6875 14.15625 23.53125 \r\nz\r\n\" id=\"MalgunGothic-54\"/>\r\n      </defs>\r\n      <g transform=\"translate(12.707813 100.541966)scale(0.1 -0.1)\">\r\n       <use xlink:href=\"#MalgunGothic-54\"/>\r\n       <use x=\"55.078125\" xlink:href=\"#MalgunGothic-48\"/>\r\n       <use x=\"110.15625\" xlink:href=\"#MalgunGothic-48\"/>\r\n      </g>\r\n     </g>\r\n    </g>\r\n    <g id=\"ytick_5\">\r\n     <g id=\"line2d_7\">\r\n      <g>\r\n       <use style=\"stroke:#000000;stroke-width:0.8;\" x=\"36.23125\" xlink:href=\"#m6e9110bcfe\" y=\"53.870983\"/>\r\n      </g>\r\n     </g>\r\n     <g id=\"text_7\">\r\n      <!-- 800 -->\r\n      <defs>\r\n       <path d=\"M 4.734375 20.015625 \r\nQ 4.734375 26.078125 8.421875 31.421875 \r\nQ 12.109375 36.765625 18.015625 38.96875 \r\nQ 13.375 41.359375 10.546875 45.546875 \r\nQ 7.71875 49.75 7.71875 54.6875 \r\nQ 7.71875 59.8125 10.296875 64.03125 \r\nQ 12.890625 68.265625 17.53125 70.65625 \r\nQ 22.171875 73.046875 27.78125 73.046875 \r\nQ 36.46875 73.046875 42.1875 67.84375 \r\nQ 47.90625 62.640625 47.90625 54.6875 \r\nQ 47.90625 49.703125 45.015625 45.53125 \r\nQ 42.140625 41.359375 37.703125 38.96875 \r\nQ 43.5625 36.71875 47.21875 31.390625 \r\nQ 50.875 26.078125 50.875 20.015625 \r\nQ 50.875 10.5 44.421875 4.640625 \r\nQ 37.984375 -1.21875 27.78125 -1.21875 \r\nQ 17.671875 -1.21875 11.203125 4.703125 \r\nQ 4.734375 10.640625 4.734375 20.015625 \r\nz\r\nM 12.640625 20.75 \r\nQ 12.640625 13.71875 16.890625 9.546875 \r\nQ 21.140625 5.375 27.828125 5.375 \r\nQ 34.46875 5.375 38.78125 9.671875 \r\nQ 43.109375 13.96875 43.109375 20.75 \r\nQ 43.109375 27.046875 38.78125 31.421875 \r\nQ 34.46875 35.796875 27.828125 35.796875 \r\nQ 21.4375 35.796875 17.03125 31.5625 \r\nQ 12.640625 27.34375 12.640625 20.75 \r\nz\r\nM 15.671875 54.046875 \r\nQ 15.671875 48.828125 19.28125 45.3125 \r\nQ 22.90625 41.796875 27.828125 41.796875 \r\nQ 32.765625 41.796875 36.40625 45.3125 \r\nQ 40.046875 48.828125 40.046875 54.046875 \r\nQ 40.046875 59.421875 36.578125 62.90625 \r\nQ 33.109375 66.40625 27.828125 66.40625 \r\nQ 22.65625 66.40625 19.15625 62.953125 \r\nQ 15.671875 59.515625 15.671875 54.046875 \r\nz\r\n\" id=\"MalgunGothic-56\"/>\r\n      </defs>\r\n      <g transform=\"translate(12.707813 57.667077)scale(0.1 -0.1)\">\r\n       <use xlink:href=\"#MalgunGothic-56\"/>\r\n       <use x=\"55.078125\" xlink:href=\"#MalgunGothic-48\"/>\r\n       <use x=\"110.15625\" xlink:href=\"#MalgunGothic-48\"/>\r\n      </g>\r\n     </g>\r\n    </g>\r\n    <g id=\"ytick_6\">\r\n     <g id=\"line2d_8\">\r\n      <g>\r\n       <use style=\"stroke:#000000;stroke-width:0.8;\" x=\"36.23125\" xlink:href=\"#m6e9110bcfe\" y=\"10.996094\"/>\r\n      </g>\r\n     </g>\r\n     <g id=\"text_8\">\r\n      <!-- 1000 -->\r\n      <defs>\r\n       <path d=\"M 34.859375 0 \r\nL 27.09375 0 \r\nL 27.09375 62.0625 \r\nQ 24.859375 59.8125 19.78125 57.203125 \r\nQ 14.703125 54.59375 10.5 53.5625 \r\nL 10.5 61.859375 \r\nQ 15.875 63.375 22.015625 66.796875 \r\nQ 28.171875 70.21875 31.734375 73.4375 \r\nL 34.859375 73.4375 \r\nz\r\n\" id=\"MalgunGothic-49\"/>\r\n      </defs>\r\n      <g transform=\"translate(7.2 14.792188)scale(0.1 -0.1)\">\r\n       <use xlink:href=\"#MalgunGothic-49\"/>\r\n       <use x=\"55.078125\" xlink:href=\"#MalgunGothic-48\"/>\r\n       <use x=\"110.15625\" xlink:href=\"#MalgunGothic-48\"/>\r\n       <use x=\"165.234375\" xlink:href=\"#MalgunGothic-48\"/>\r\n      </g>\r\n     </g>\r\n    </g>\r\n   </g>\r\n   <g id=\"patch_5\">\r\n    <path d=\"M 36.23125 225.370539 \r\nL 36.23125 7.930539 \r\n\" style=\"fill:none;stroke:#000000;stroke-linecap:square;stroke-linejoin:miter;stroke-width:0.8;\"/>\r\n   </g>\r\n   <g id=\"patch_6\">\r\n    <path d=\"M 371.03125 225.370539 \r\nL 371.03125 7.930539 \r\n\" style=\"fill:none;stroke:#000000;stroke-linecap:square;stroke-linejoin:miter;stroke-width:0.8;\"/>\r\n   </g>\r\n   <g id=\"patch_7\">\r\n    <path d=\"M 36.23125 225.370539 \r\nL 371.03125 225.370539 \r\n\" style=\"fill:none;stroke:#000000;stroke-linecap:square;stroke-linejoin:miter;stroke-width:0.8;\"/>\r\n   </g>\r\n   <g id=\"patch_8\">\r\n    <path d=\"M 36.23125 7.930539 \r\nL 371.03125 7.930539 \r\n\" style=\"fill:none;stroke:#000000;stroke-linecap:square;stroke-linejoin:miter;stroke-width:0.8;\"/>\r\n   </g>\r\n  </g>\r\n </g>\r\n <defs>\r\n  <clipPath id=\"p2701fe1fc5\">\r\n   <rect height=\"217.44\" width=\"334.8\" x=\"36.23125\" y=\"7.930539\"/>\r\n  </clipPath>\r\n </defs>\r\n</svg>\r\n",
      "image/png": "[encoded data removed]"
     },
     "metadata": {
      "needs_background": "light"
     }
    }
   ],
   "source": [
    "import numpy as np\n",
    "import pandas as pd\n",
    "from matplotlib import pyplot as plt \n",
    "import matplotlib.pyplot as plt \n",
    "# 한글문제 해결처리 \n",
    "################################################################\n",
    "from matplotlib import font_manager, rc\n",
    "import platform\n",
    "plt.rcParams['axes.unicode_minus'] = False\n",
    "if platform.system() == 'Darwin':\n",
    "    rc('font', family='AppleGothic')\n",
    "elif platform.system() == 'Windows':\n",
    "    path = \"c:/Windows/Fonts/malgun.ttf\"\n",
    "    font_name = font_manager.FontProperties(fname=path).get_name()\n",
    "    rc('font', family=font_name)\n",
    "else:\n",
    "    print('Unknown system... sorry~~~~')\n",
    "################################################################\n",
    "\n",
    "# 다음의 결과를 출력하시오.\n",
    "df=pd.read_excel(\"의심환자검역정보(2019).xlsx\")\n",
    "df\n",
    "df.groupby (by='성별').count()\n",
    "df2 = df.loc[:,['성별','검사결과']]\n",
    "df2\n",
    "df3=df2.groupby(by='성별').count().reset_index()\n",
    "\n",
    "df3.columns = ['성별','검사건수']\n",
    "plt.bar(df3['성별'],df3['검사건수'])\n",
    "# plt.yticks([0,200,400,600,800,1000])\n",
    "\n",
    "plt.show()\n",
    "\n",
    "\n",
    "# filter = df['성별'] =='남'\n",
    "# filter2 = df['성별'] !='남'\n",
    "# df1 = df[filter]\n",
    "# df2 =df[filter2]\n",
    "# data = [df1[\"성별\"].count(),df2[\"성별\"].count()]\n",
    "# df3 =pd.DataFrame(data, index=[\"남\",\"여\"])\n",
    "# df3.plot.bar(legend=False)\n"
   ]
  },
  {
   "cell_type": "code",
   "execution_count": null,
   "metadata": {},
   "outputs": [],
   "source": [
    "import numpy as np\n",
    "import pandas as pd\n",
    "from matplotlib import pyplot as plt \n",
    "import matplotlib.pyplot as plt \n",
    "# 한글문제 해결처리 \n",
    "################################################################\n",
    "from matplotlib import font_manager, rc\n",
    "import platform\n",
    "plt.rcParams['axes.unicode_minus'] = False\n",
    "if platform.system() == 'Darwin':\n",
    "    rc('font', family='AppleGothic')\n",
    "elif platform.system() == 'Windows':\n",
    "    path = \"c:/Windows/Fonts/malgun.ttf\"\n",
    "    font_name = font_manager.FontProperties(fname=path).get_name()\n",
    "    rc('font', family=font_name)\n",
    "else:\n",
    "    print('Unknown system... sorry~~~~')\n",
    "################################################################\n",
    "\n",
    "# 다음의 결과를 출력하시오.\n",
    "df=pd.read_excel(\"의심환자검역정보(2019).xlsx\")\n",
    "df\n",
    "df.groupby (by='성별').count()\n",
    "df2 = df.loc[:,['성별','검사결과']]\n",
    "df2\n",
    "df3=df2.groupby(by='성별').count().reset_index()\n",
    "\n",
    "df3.columns = ['성별','검사건수']\n",
    "plt.bar(df3['성별'],df3['검사건수'])\n",
    "# plt.yticks([0,200,400,600,800,1000])\n",
    "\n",
    "plt.show()"
   ]
  }
 ],
 "metadata": {
  "language_info": {
   "codemirror_mode": {
    "name": "ipython",
    "version": 3
   },
   "file_extension": ".py",
   "mimetype": "text/x-python",
   "name": "python",
   "nbconvert_exporter": "python",
   "pygments_lexer": "ipython3",
   "version": "3.7.7-final"
  },
  "orig_nbformat": 2,
  "kernelspec": {
   "name": "python37764bit940e9a0491dc4d3e8247a21ac52a332e",
   "display_name": "Python 3.7.7 64-bit"
  }
 },
 "nbformat": 4,
 "nbformat_minor": 2
}