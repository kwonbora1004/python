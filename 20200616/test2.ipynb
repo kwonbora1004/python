{
 "cells": [
  {
   "cell_type": "code",
   "execution_count": 1,
   "metadata": {},
   "outputs": [
    {
     "output_type": "execute_result",
     "data": {
      "text/plain": "{'BTS': {'암수살인': 5, '바울': 4, '할로윈': 1.5},\n '손흥민': {'바울': 5, '할로윈': 2},\n '레드벨벳': {'암수살인': 2.5, '바울': 2, '할로윈': 1},\n '트와이스': {'암수살인': 3.5, '바울': 4, '할로윈': 5}}"
     },
     "metadata": {},
     "execution_count": 1
    }
   ],
   "source": [
    "critics={\n",
    "    'BTS':{'암수살인':5, '바울':4, '할로윈':1.5},\n",
    "    '손흥민':{'바울':5, '할로윈':2},\n",
    "    '레드벨벳':{'암수살인':2.5, '바울':2, '할로윈':1},\n",
    "    '트와이스':{'암수살인':3.5, '바울':4, '할로윈':5}\n",
    "}\n",
    "critics"
   ]
  },
  {
   "cell_type": "code",
   "execution_count": 118,
   "metadata": {},
   "outputs": [
    {
     "output_type": "stream",
     "name": "stdout",
     "text": "1.118033988749895\n"
    }
   ],
   "source": [
    "critics['손흥민'] \n",
    "# critics.get('손흥민') # 위와 동일 \n",
    "critics['손흥민'].get('바울')  #critics['손흥민']['바울'] /  critics.get('손흥민').get('바울')\n",
    "\n",
    "#(1,2) , (3,2) 좌표 \n",
    "#두 점 사이의 거리 출력 \n",
    "#(x1,y1) , (x2,y2) = > (x2-x2)의 제곱 + (y2-y1)의 제곱한다음 제곱근 \n",
    "from math import sqrt #제곱근 함수 \n",
    "sqrt(pow(3-1,2)+pow(2-2,2))\n",
    "\n",
    "def sim(i,j):\n",
    "    return sqrt(pow(i,2)+pow(j,2))\n",
    "\n",
    "v1 = critics['손흥민']['바울'] - critics['BTS']['바울'] #평점의 차  #x2 - x1\n",
    "v2 = critics['손흥민']['할로윈'] - critics['BTS']['할로윈']   # y2 - y1\n",
    "v2\n",
    "\n",
    "print(sim(v1,v2))\n",
    "\n",
    "\n"
   ]
  },
  {
   "cell_type": "code",
   "execution_count": 116,
   "metadata": {},
   "outputs": [
    {
     "output_type": "stream",
     "name": "stdout",
     "text": "BTS : 0.4721359549995794\n레드벨벳 : 0.2402530733520421\n트와이스 : 0.2402530733520421\n"
    }
   ],
   "source": [
    "for i in critics:\n",
    "    if i !='손흥민':\n",
    "        v1 = critics['손흥민']['바울'] - critics[i]['바울'] #평점의 차  #x2 - x1\n",
    "        v2 = critics['손흥민']['할로윈'] - critics[i]['할로윈']   # y2 - y1\n",
    "        #print(i,\":\",sim(v1,v2))   \n",
    "        print(i,\":\",1/(1+sim(v1,v2)))\n",
    "        \n"
   ]
  },
  {
   "cell_type": "code",
   "execution_count": 28,
   "metadata": {},
   "outputs": [
    {
     "output_type": "execute_result",
     "data": {
      "text/plain": "0.20799159651347807"
     },
     "metadata": {},
     "execution_count": 28
    }
   ],
   "source": [
    "\n",
    "\"\"\"다차원 공간에서 두점사이의 거리 \n",
    "-유클리디안 거리 \n",
    "-코사인 유사도 \n",
    "\n",
    "유클리디안 거리공식\n",
    "\n",
    "\"\"\"\n",
    "\n",
    "##다차원 공간에서의 두사람간 유클리디안 거리 구하기 \n",
    "#'BTS':{'암수살인':5, '바울':4, '할로윈':1.5},\n",
    "def simDistance(data, name1 , name2):  \n",
    "    sum = 0\n",
    "    for i in data[name1]: #i bts가 본 영화제목(key)\n",
    "        if i in data[name2]: # 트와이스': {'암수살인': 3.5, '바울': 4, '할로윈': 5}}\n",
    "        #트와이스가 본 영화제목중 bts가 본 영화 (i)가 있다면 -> 공통으로 본영화 \n",
    "            sum += pow(data[name1][i]-data[name2][i],2)\n",
    "    return 1/(1+sqrt(sum))\n",
    "\n",
    "\n",
    "simDistance(critics,'BTS','트와이스') \n"
   ]
  },
  {
   "cell_type": "code",
   "execution_count": 54,
   "metadata": {},
   "outputs": [
    {
     "output_type": "execute_result",
     "data": {
      "text/plain": "[(0.179128784747792, '트와이스'), (0.23582845781094, 'BTS')]"
     },
     "metadata": {},
     "execution_count": 54
    }
   ],
   "source": [
    "def topMatch(data, name, index = 2, simFunction=simDistance):\n",
    "    res = []\n",
    "    for i in data:\n",
    "       if name != i:\n",
    "           res.append((simFunction(data,name,i),i))\n",
    "    res.sort()\n",
    "    return res[:index]\n",
    "\n",
    "\n",
    "topMatch(critics,'레드벨벳')"
   ]
  },
  {
   "cell_type": "code",
   "execution_count": 58,
   "metadata": {},
   "outputs": [
    {
     "output_type": "stream",
     "name": "stdout",
     "text": "None\n"
    }
   ],
   "source": [
    "#피어슨 상관계수 (BTS 손흥민 트와이스 레드벨벳)\n",
    "# 두 변수 간의 \n",
    "#BTS 손흥민 = COv (BTS ,손흥민) / 표준편차 (BTS)  표준편차 (손흥민)\n",
    " \n",
    "import re # 정규표현식 \n",
    "#re.match('패턴','문자열')\n",
    "#패턴이 문자열속에 있습니까 ?  있다면 어디에 있나요 ? \n",
    "\n",
    "re.match('hello','helloworld')\n",
    "print(re.match('hi','helloworld'))\n"
   ]
  },
  {
   "cell_type": "code",
   "execution_count": 106,
   "metadata": {},
   "outputs": [
    {
     "output_type": "stream",
     "name": "stdout",
     "text": "<re.Match object; span=(0, 13), match='010-1234-5678'>\nNone\n올바른 전화번호 형식입니다.\n참\n거짓\n"
    }
   ],
   "source": [
    "re.match('[0-9]','1234')\n",
    "re.match('[0-9]+','12a34') # +는 0~9까지의 수가 한글자 이상 \n",
    "re.match('a*b','b') #a문자가 0개이상있으면서 반드시 그 뒤에 b가와야함 \n",
    "re.match('a+b','aab') #앞에 a가 한글자 이상 있어야한다 .\n",
    "re.match('abc?d','abd') # ?는 ? 앞의 문자가 0개 또는 1개인지 판단 \n",
    "re.match('ab.d','abd') # .은 .이 있는 위치에 아무문자(숫자)가 1개있으면 매칭 \n",
    "re.match('ab.d','abxd')\n",
    "re.match('ab[0-9]?c','abc')\n",
    "re.match('h{3}','hhhhheeeellllo')  # h가 3개\n",
    "#문자{3} -> 문자가 3개 \n",
    "#[0-9]{개수}\n",
    "re.match('[0-9]+-','010-')\n",
    "print(re.match('[0-9]{3}-[0-9]{4}-[0-9]{4}','010-1234-5678'))\n",
    "print(re.match('[0-9]{3}-[0-9]{4}-[0-9]{4}','0101-1234-5678'))\n",
    "res = re.match('[0-9]{3}-[0-9]{4}-[0-9]{4}','010-1234-5678')\n",
    "if res:\n",
    "    print(\"올바른 전화번호 형식입니다.\")\n",
    "else:\n",
    "    print(\"전화번호 형식이 맞지않습니다.\")\n",
    "\n",
    "\n",
    "if ('안녕') :\n",
    "    print('참')\n",
    "else:\n",
    "    print('거짓')\n",
    "\n",
    "x = None\n",
    "if x :\n",
    "    print('참')\n",
    "else:\n",
    "    print('거짓')"
   ]
  },
  {
   "cell_type": "code",
   "execution_count": 125,
   "metadata": {},
   "outputs": [
    {
     "output_type": "error",
     "ename": "AttributeError",
     "evalue": "'dict' object has no attribute 'corr'",
     "traceback": [
      "\u001b[1;31m---------------------------------------------------------------------------\u001b[0m",
      "\u001b[1;31mAttributeError\u001b[0m                            Traceback (most recent call last)",
      "\u001b[1;32m<ipython-input-125-95c440c06d5a>\u001b[0m in \u001b[0;36m<module>\u001b[1;34m\u001b[0m\n\u001b[0;32m     19\u001b[0m \u001b[1;33m\u001b[0m\u001b[0m\n\u001b[0;32m     20\u001b[0m \u001b[1;33m\u001b[0m\u001b[0m\n\u001b[1;32m---> 21\u001b[1;33m \u001b[0msimPearson\u001b[0m\u001b[1;33m(\u001b[0m\u001b[0mcritics\u001b[0m\u001b[1;33m,\u001b[0m\u001b[1;34m'BTS'\u001b[0m\u001b[1;33m,\u001b[0m\u001b[1;34m'트와이스'\u001b[0m\u001b[1;33m)\u001b[0m\u001b[1;33m\u001b[0m\u001b[1;33m\u001b[0m\u001b[0m\n\u001b[0m",
      "\u001b[1;32m<ipython-input-125-95c440c06d5a>\u001b[0m in \u001b[0;36msimPearson\u001b[1;34m(data, name1, name2)\u001b[0m\n\u001b[0;32m     13\u001b[0m     \u001b[1;32mfor\u001b[0m \u001b[0mi\u001b[0m \u001b[1;32min\u001b[0m \u001b[0mdata\u001b[0m\u001b[1;33m[\u001b[0m\u001b[0mname1\u001b[0m\u001b[1;33m]\u001b[0m\u001b[1;33m:\u001b[0m\u001b[1;33m\u001b[0m\u001b[1;33m\u001b[0m\u001b[0m\n\u001b[0;32m     14\u001b[0m         \u001b[1;32mif\u001b[0m \u001b[0mi\u001b[0m \u001b[1;32min\u001b[0m \u001b[0mdata\u001b[0m\u001b[1;33m[\u001b[0m\u001b[0mname2\u001b[0m\u001b[1;33m]\u001b[0m\u001b[1;33m:\u001b[0m\u001b[1;33m\u001b[0m\u001b[1;33m\u001b[0m\u001b[0m\n\u001b[1;32m---> 15\u001b[1;33m          \u001b[0mcritics\u001b[0m\u001b[1;33m.\u001b[0m\u001b[0mcorr\u001b[0m\u001b[1;33m(\u001b[0m\u001b[1;33m)\u001b[0m\u001b[1;33m\u001b[0m\u001b[1;33m\u001b[0m\u001b[0m\n\u001b[0m\u001b[0;32m     16\u001b[0m     \u001b[1;32mreturn\u001b[0m \u001b[1;36m0\u001b[0m\u001b[1;33m\u001b[0m\u001b[1;33m\u001b[0m\u001b[0m\n\u001b[0;32m     17\u001b[0m \u001b[1;33m\u001b[0m\u001b[0m\n",
      "\u001b[1;31mAttributeError\u001b[0m: 'dict' object has no attribute 'corr'"
     ]
    }
   ],
   "source": [
    "#BTS와 손흥민의 피어슨 상관계수 ?\n",
    "#BTS와 레드벨벳의 피어슨 상관계수 ?\n",
    "#BTS와 트와이스의 피어슨 상관계수 ?\n",
    "#손흥민와 레드벨벳의 피어슨 상관계수 ?\n",
    "#송흥민과 트와이스 피어슨 상관계수 ?\n",
    "#레드벨벳와 트와이스의 피어슨 상관계수 ?\n",
    "\n",
    "\n",
    "#BTS 손흥민 = Cov (BTS ,손흥민) / std(BTS) std(손흥민)\n",
    "\n",
    "\n",
    "def simPearson(data,name1,name2):\n",
    "    for i in data[name1]: \n",
    "        if i in data[name2]:\n",
    "        \n",
    "    return 0\n",
    "\n",
    "\n",
    "\n",
    "\n",
    "simPearson(critics,'BTS','트와이스')"
   ]
  }
 ],
 "metadata": {
  "language_info": {
   "codemirror_mode": {
    "name": "ipython",
    "version": 3
   },
   "file_extension": ".py",
   "mimetype": "text/x-python",
   "name": "python",
   "nbconvert_exporter": "python",
   "pygments_lexer": "ipython3",
   "version": "3.7.7-final"
  },
  "orig_nbformat": 2,
  "kernelspec": {
   "name": "python37764bit940e9a0491dc4d3e8247a21ac52a332e",
   "display_name": "Python 3.7.7 64-bit"
  }
 },
 "nbformat": 4,
 "nbformat_minor": 2
}