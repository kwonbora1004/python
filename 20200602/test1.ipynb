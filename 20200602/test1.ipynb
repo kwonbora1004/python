{
 "cells": [
  {
   "cell_type": "code",
   "execution_count": 15,
   "metadata": {},
   "outputs": [
    {
     "output_type": "execute_result",
     "data": {
      "text/plain": "pandas.core.series.Series"
     },
     "metadata": {},
     "execution_count": 15
    }
   ],
   "source": [
    "import pandas as pd \n",
    "import numpy as np\n",
    "s = pd.Series()\n",
    "s\n",
    "data = pd.Series([1,2,3,4])\n",
    "data\n",
    "data2 = pd.Series(['a','b','c','d'])\n",
    "data2\n",
    "data3 = pd.Series(['a','b','c','d'],index=[100,110,120,130])\n",
    "data3\n",
    "\n",
    "a = np.array([1,2,3,4])\n",
    "a\n",
    "data4 = pd.Series(a,index=[10,20,30,40])\n",
    "data4\n",
    "\n",
    "dict1 = {1:'test',2:'test2',3:'test3'}\n",
    "data5 = pd.Series(dict1)\n",
    "data5\n",
    "data6 = pd.Series(dict1, index = [3,1,4])\n",
    "data6\n",
    "type(data6)"
   ]
  },
  {
   "cell_type": "code",
   "execution_count": 32,
   "metadata": {},
   "outputs": [
    {
     "output_type": "execute_result",
     "data": {
      "text/plain": "2"
     },
     "metadata": {},
     "execution_count": 32
    }
   ],
   "source": [
    "data7 = pd.Series(5,index = [1,2,3,4,5,6])\n",
    "data7\n",
    "\n",
    "data8 = pd.Series([1,2,3,4,5,6])\n",
    "data8\n",
    "data8[0]\n",
    "data8[:3]\n",
    "data8 = pd.Series([1,2,3,4,5,6], index = ['a','b','c','d','e','f'])\n",
    "data8['a']\n",
    "\n",
    "data9 = pd.Series([2,3,4,5])\n",
    "data9[0]\n",
    "\n",
    "#data9['g'] 키에러 \n"
   ]
  },
  {
   "cell_type": "code",
   "execution_count": 59,
   "metadata": {},
   "outputs": [
    {
     "output_type": "execute_result",
     "data": {
      "text/plain": "Bob      4\nSteve    7\nJeff    -5\nRyan     3\ndtype: int64"
     },
     "metadata": {},
     "execution_count": 59
    }
   ],
   "source": [
    "obj = pd.Series([4,7,-5,3])\n",
    "obj\n",
    "obj.values\n",
    "obj.index\n",
    "\n",
    "obj2 = pd.Series([4,7,-5,3],index = ['d','b','a','c'])\n",
    "obj2\n",
    "obj2.index\n",
    "\n",
    "obj2['a']\n",
    "obj2['d']=6\n",
    "obj2[['c','a','d']]\n",
    "obj2[obj2>0]\n",
    "\n",
    "obj2 * 2\n",
    "\n",
    "np.exp(obj2)\n",
    "\n",
    "'b' in obj2\n",
    "'e' in obj2\n",
    "sdata = {'Ohio':35000,'Texas':71000,'Oregon':16000,'Utah':5000}\n",
    "obj3 = pd.Series(sdata)\n",
    "obj3\n",
    "\n",
    "states = ['California','Ohio','Oregon','Texas']\n",
    "obj4 = pd.Series(sdata,index = states)\n",
    "obj4\n",
    "\n",
    "pd.isnull(obj4)\n",
    "pd.notnull(obj4)\n",
    "obj4.isnull()\n",
    "\n",
    "obj3 +obj4\n",
    "\n",
    "obj4.name = 'population'\n",
    "obj4\n",
    "\n",
    "obj.index = ['Bob','Steve','Jeff',\"Ryan\"]\n",
    "obj"
   ]
  },
  {
   "cell_type": "code",
   "execution_count": 89,
   "metadata": {},
   "outputs": [
    {
     "output_type": "execute_result",
     "data": {
      "text/plain": "   two  three  four\na    4      5     5\nb    5      6     7\nc    6      6     9",
      "text/html": "<div>\n<style scoped>\n    .dataframe tbody tr th:only-of-type {\n        vertical-align: middle;\n    }\n\n    .dataframe tbody tr th {\n        vertical-align: top;\n    }\n\n    .dataframe thead th {\n        text-align: right;\n    }\n</style>\n<table border=\"1\" class=\"dataframe\">\n  <thead>\n    <tr style=\"text-align: right;\">\n      <th></th>\n      <th>two</th>\n      <th>three</th>\n      <th>four</th>\n    </tr>\n  </thead>\n  <tbody>\n    <tr>\n      <th>a</th>\n      <td>4</td>\n      <td>5</td>\n      <td>5</td>\n    </tr>\n    <tr>\n      <th>b</th>\n      <td>5</td>\n      <td>6</td>\n      <td>7</td>\n    </tr>\n    <tr>\n      <th>c</th>\n      <td>6</td>\n      <td>6</td>\n      <td>9</td>\n    </tr>\n  </tbody>\n</table>\n</div>"
     },
     "metadata": {},
     "execution_count": 89
    }
   ],
   "source": [
    "#Lists,Dict,Series,Numpy arrays, DataFrame\n",
    "import numpy as np \n",
    "import pandas as pd \n",
    "\n",
    "df = pd.DataFrame()\n",
    "#type(df)\n",
    "df\n",
    "\n",
    "df1 = pd.DataFrame([1,2,3,4,5,6])\n",
    "df1\n",
    "\n",
    "df2 = pd.DataFrame([[1,2],[3,4]])\n",
    "df2\n",
    "\n",
    "df3 = pd.DataFrame([['test1',10],['test2',20],['test3',30]],columns=['name','age'],dtype = float)\n",
    "df3\n",
    "\n",
    "df4 = pd.DataFrame( {'name':['이순신','강감찬','을지문덕','홍길동'],\n",
    "                    'age':[20, 21, 22, 30] } , index = ['no1','no2','no3','no4'],\n",
    "                    columns=['age','name'])\n",
    "df4\n",
    "\n",
    "df5 = pd.DataFrame([{'no1':10 ,'no2':20 },{ 'no1':100,'no2':200 ,'no3':300}], index= ['one','two'],columns = ['no3','no2','no1'])\n",
    "df5\n",
    "\n",
    "col1 = pd.Series([1,2,3] ,index = ['a','b','c'])\n",
    "col2 = pd.Series([4,5,6] ,index = ['a','b','c'])\n",
    "\n",
    "df6 = pd.DataFrame({'one':col1,'two':col2})\n",
    "df6['three'] = pd.Series([5,6,6],index=['a','b','c'])\n",
    "df6\n",
    "\n",
    "t=df6['one']\n",
    "type(t)\n",
    "df6['one']\n",
    "df6['two']\n",
    "df6['four'] = df6['one']+df6['two']\n",
    "df6\n",
    "\n",
    "del df6['one']\n",
    "df6"
   ]
  },
  {
   "cell_type": "code",
   "execution_count": 95,
   "metadata": {},
   "outputs": [
    {
     "output_type": "execute_result",
     "data": {
      "text/plain": "   one  two\n0    1    5\n1    2    6\n2    3    7\n3    4    8\n4    5    9",
      "text/html": "<div>\n<style scoped>\n    .dataframe tbody tr th:only-of-type {\n        vertical-align: middle;\n    }\n\n    .dataframe tbody tr th {\n        vertical-align: top;\n    }\n\n    .dataframe thead th {\n        text-align: right;\n    }\n</style>\n<table border=\"1\" class=\"dataframe\">\n  <thead>\n    <tr style=\"text-align: right;\">\n      <th></th>\n      <th>one</th>\n      <th>two</th>\n    </tr>\n  </thead>\n  <tbody>\n    <tr>\n      <th>0</th>\n      <td>1</td>\n      <td>5</td>\n    </tr>\n    <tr>\n      <th>1</th>\n      <td>2</td>\n      <td>6</td>\n    </tr>\n    <tr>\n      <th>2</th>\n      <td>3</td>\n      <td>7</td>\n    </tr>\n    <tr>\n      <th>3</th>\n      <td>4</td>\n      <td>8</td>\n    </tr>\n    <tr>\n      <th>4</th>\n      <td>5</td>\n      <td>9</td>\n    </tr>\n  </tbody>\n</table>\n</div>"
     },
     "metadata": {},
     "execution_count": 95
    }
   ],
   "source": [
    "import numpy as np \n",
    "import pandas as pd \n",
    "\n",
    "data = [[1,2],[3,4]]\n",
    "df = pd.DataFrame(data , index = ['row1','row2'],columns=['col1','col2'])\n",
    "df\n",
    "\n",
    "df['col2']\n",
    "\n",
    "d= df.loc['row1']\n",
    "d2 = df.iloc[0]\n",
    "df.iloc[1]\n",
    "df[:1]\n",
    "\n",
    "data2 = {'one':[1,2,3,4,5],'two':[5,6,7,8,9]}\n",
    "df2 = pd.DataFrame(data2)\n",
    "df2\n"
   ]
  }
 ],
 "metadata": {
  "language_info": {
   "codemirror_mode": {
    "name": "ipython",
    "version": 3
   },
   "file_extension": ".py",
   "mimetype": "text/x-python",
   "name": "python",
   "nbconvert_exporter": "python",
   "pygments_lexer": "ipython3",
   "version": "3.7.7-final"
  },
  "orig_nbformat": 2,
  "kernelspec": {
   "name": "python37764bit940e9a0491dc4d3e8247a21ac52a332e",
   "display_name": "Python 3.7.7 64-bit"
  }
 },
 "nbformat": 4,
 "nbformat_minor": 2
}