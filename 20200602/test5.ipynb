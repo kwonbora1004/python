{
 "cells": [
  {
   "cell_type": "code",
   "execution_count": 9,
   "metadata": {},
   "outputs": [
    {
     "output_type": "execute_result",
     "data": {
      "text/plain": "7.639999999999999"
     },
     "metadata": {},
     "execution_count": 9
    }
   ],
   "source": [
    "import os\n",
    "import cx_Oracle\n",
    "import time\n",
    "import requests\n",
    "import numpy as np \n",
    "from bs4 import BeautifulSoup\n",
    "import pandas as pd\n",
    "URL = \"http://ticket2.movie.daum.net/Movie/MovieRankList.aspx\"\n",
    "res = requests.get(URL)\n",
    "soup = BeautifulSoup(res.content, 'lxml')\n",
    "box = soup.find_all('div', class_=\"desc_boxthumb\")\n",
    "# count = 0\n",
    "data = []\n",
    "for movie in box:  \n",
    "    title, ranking = movie.find('strong', class_=\"tit_join\"), movie.find('em', class_=\"emph_grade\")\n",
    "    movie, grade = title.get_text().strip(), ranking.get_text().strip()\n",
    "    # print(movie, grade)\n",
    "    list2 = [movie, grade]#movie, grade를 list(이름,평점)로 가진 형태로 만듦\n",
    "    data.append([movie,grade])#data에 list2의 모든데치터를 가지고 있는 리스 형태로 변환\n",
    "\n",
    "df = pd.DataFrame(data,columns=['title','rating'])\n",
    "df['rating']=df['rating'].astype(float)\n",
    "#df = df.astype({'title':str,'rating':float})\n",
    "df.dtypes\n",
    "df['rating'].mean()"
   ]
  },
  {
   "cell_type": "code",
   "execution_count": 23,
   "metadata": {},
   "outputs": [
    {
     "output_type": "execute_result",
     "data": {
      "text/plain": "   time        artist  year\n0  4:22         2 Pac  2000\n1  3:15       2Ge+her  2000\n2  3:53  3 Doors Down  2000",
      "text/html": "<div>\n<style scoped>\n    .dataframe tbody tr th:only-of-type {\n        vertical-align: middle;\n    }\n\n    .dataframe tbody tr th {\n        vertical-align: top;\n    }\n\n    .dataframe thead th {\n        text-align: right;\n    }\n</style>\n<table border=\"1\" class=\"dataframe\">\n  <thead>\n    <tr style=\"text-align: right;\">\n      <th></th>\n      <th>time</th>\n      <th>artist</th>\n      <th>year</th>\n    </tr>\n  </thead>\n  <tbody>\n    <tr>\n      <th>0</th>\n      <td>4:22</td>\n      <td>2 Pac</td>\n      <td>2000</td>\n    </tr>\n    <tr>\n      <th>1</th>\n      <td>3:15</td>\n      <td>2Ge+her</td>\n      <td>2000</td>\n    </tr>\n    <tr>\n      <th>2</th>\n      <td>3:53</td>\n      <td>3 Doors Down</td>\n      <td>2000</td>\n    </tr>\n  </tbody>\n</table>\n</div>"
     },
     "metadata": {},
     "execution_count": 23
    }
   ],
   "source": [
    "df=pd.read_csv(\"../20200602/data/billboard.csv\")\n",
    "df\n",
    "df.shape\n",
    "df.dtypes\n",
    "df.columns\n",
    "df.index\n",
    "df2 = df.reindex(index = [0,1,2],columns=['time','artist','year'])\n",
    "df2\n",
    "\n"
   ]
  },
  {
   "cell_type": "code",
   "execution_count": 28,
   "metadata": {},
   "outputs": [
    {
     "output_type": "execute_result",
     "data": {
      "text/plain": "          one       two      col3\n100  0.420324 -1.413088  1.082222\n200 -1.009446  0.929741 -1.262317\n2    0.540021 -1.021478  1.365966\n300 -0.559564  0.006805  0.392622\n400 -0.545999 -0.506535 -0.370757\n500  0.398264 -1.199557  0.017770",
      "text/html": "<div>\n<style scoped>\n    .dataframe tbody tr th:only-of-type {\n        vertical-align: middle;\n    }\n\n    .dataframe tbody tr th {\n        vertical-align: top;\n    }\n\n    .dataframe thead th {\n        text-align: right;\n    }\n</style>\n<table border=\"1\" class=\"dataframe\">\n  <thead>\n    <tr style=\"text-align: right;\">\n      <th></th>\n      <th>one</th>\n      <th>two</th>\n      <th>col3</th>\n    </tr>\n  </thead>\n  <tbody>\n    <tr>\n      <th>100</th>\n      <td>0.420324</td>\n      <td>-1.413088</td>\n      <td>1.082222</td>\n    </tr>\n    <tr>\n      <th>200</th>\n      <td>-1.009446</td>\n      <td>0.929741</td>\n      <td>-1.262317</td>\n    </tr>\n    <tr>\n      <th>2</th>\n      <td>0.540021</td>\n      <td>-1.021478</td>\n      <td>1.365966</td>\n    </tr>\n    <tr>\n      <th>300</th>\n      <td>-0.559564</td>\n      <td>0.006805</td>\n      <td>0.392622</td>\n    </tr>\n    <tr>\n      <th>400</th>\n      <td>-0.545999</td>\n      <td>-0.506535</td>\n      <td>-0.370757</td>\n    </tr>\n    <tr>\n      <th>500</th>\n      <td>0.398264</td>\n      <td>-1.199557</td>\n      <td>0.017770</td>\n    </tr>\n  </tbody>\n</table>\n</div>"
     },
     "metadata": {},
     "execution_count": 28
    }
   ],
   "source": [
    "import pandas as pd \n",
    "import numpy as np \n",
    "\n",
    "df3 = pd.DataFrame(np.random.randn(6,3),columns=['col1','col2','col3'])\n",
    "df3\n",
    "df4=df3.rename(index = {0:100,1:200,3:300,4:400,5:500},columns={'col1':'one','col2':'two'})\n",
    "df4"
   ]
  },
  {
   "cell_type": "code",
   "execution_count": 46,
   "metadata": {},
   "outputs": [
    {
     "output_type": "execute_result",
     "data": {
      "text/plain": "a    0.743438\nb    0.638563\nName: col1, dtype: float64"
     },
     "metadata": {},
     "execution_count": 46
    }
   ],
   "source": [
    "#java, python, html, css ,javascript,database , statistics , numpy, pandas ..import\n",
    "#spring , mvc m desingpattern\n",
    "#maching learning, skit-learn , deep learning cloud \n",
    "# 기사 , sqld 1 -2 , asdp 1-2 알고리즘 + linux-1 \n",
    "#full stack\n",
    "#java jsp  servelet spring html5 css3 javascript react.js angular.js vue.js \n",
    "#database(sql syntax,procedure)\n",
    "#node.js mysql mssql python\n",
    "\n",
    "#spark hadoop linux 분산어플리케이션 빅데이터 개발환경 \n",
    "#open stack - 개인 커뮤니티 , 클라우드 \n",
    "#데이터 마이닝, \n",
    "import numpy as np \n",
    "import pandas as pd \n",
    "\n",
    "\n",
    "df = pd.DataFrame(np.random.rand(6,4),\n",
    "index = ['a','b','c','d','e','f'],columns = ['col1','col2','col3','col4'])\n",
    "df\n",
    "\n",
    "df['col1']\n",
    "df.loc['a',:]\n",
    "df.loc[:,'col1']\n",
    "df.loc[['a','c','e'],['col1','col3']]\n",
    "df.loc['a':'e','col1':'col4']\n",
    "df.loc['a']>0\n",
    "df.iloc[0:2,0:2]\n",
    "df.iloc[1:3,1:2]\n",
    "df['col1'][:2]"
   ]
  }
 ],
 "metadata": {
  "language_info": {
   "codemirror_mode": {
    "name": "ipython",
    "version": 3
   },
   "file_extension": ".py",
   "mimetype": "text/x-python",
   "name": "python",
   "nbconvert_exporter": "python",
   "pygments_lexer": "ipython3",
   "version": "3.7.7-final"
  },
  "orig_nbformat": 2,
  "kernelspec": {
   "name": "python37764bit940e9a0491dc4d3e8247a21ac52a332e",
   "display_name": "Python 3.7.7 64-bit"
  }
 },
 "nbformat": 4,
 "nbformat_minor": 2
}