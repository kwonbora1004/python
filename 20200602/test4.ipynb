{
 "cells": [
  {
   "cell_type": "code",
   "execution_count": 28,
   "metadata": {},
   "outputs": [
    {
     "output_type": "execute_result",
     "data": {
      "text/plain": "       col1      col2      col3\n0 -1.104467 -0.349774 -0.951174\n1  0.177609 -0.424939 -1.600246\n2  1.141537  1.108670 -1.117129\n3 -1.134933 -0.229681 -0.377421\n4  0.502627  1.815067 -0.349925\n5 -0.702724 -0.740137  0.570806\n6  0.367388  0.187091  0.476079\n7  0.367388  0.187091  0.476079\n8  0.367388  0.187091  0.476079\n9  0.367388  0.187091  0.476079",
      "text/html": "<div>\n<style scoped>\n    .dataframe tbody tr th:only-of-type {\n        vertical-align: middle;\n    }\n\n    .dataframe tbody tr th {\n        vertical-align: top;\n    }\n\n    .dataframe thead th {\n        text-align: right;\n    }\n</style>\n<table border=\"1\" class=\"dataframe\">\n  <thead>\n    <tr style=\"text-align: right;\">\n      <th></th>\n      <th>col1</th>\n      <th>col2</th>\n      <th>col3</th>\n    </tr>\n  </thead>\n  <tbody>\n    <tr>\n      <th>0</th>\n      <td>-1.104467</td>\n      <td>-0.349774</td>\n      <td>-0.951174</td>\n    </tr>\n    <tr>\n      <th>1</th>\n      <td>0.177609</td>\n      <td>-0.424939</td>\n      <td>-1.600246</td>\n    </tr>\n    <tr>\n      <th>2</th>\n      <td>1.141537</td>\n      <td>1.108670</td>\n      <td>-1.117129</td>\n    </tr>\n    <tr>\n      <th>3</th>\n      <td>-1.134933</td>\n      <td>-0.229681</td>\n      <td>-0.377421</td>\n    </tr>\n    <tr>\n      <th>4</th>\n      <td>0.502627</td>\n      <td>1.815067</td>\n      <td>-0.349925</td>\n    </tr>\n    <tr>\n      <th>5</th>\n      <td>-0.702724</td>\n      <td>-0.740137</td>\n      <td>0.570806</td>\n    </tr>\n    <tr>\n      <th>6</th>\n      <td>0.367388</td>\n      <td>0.187091</td>\n      <td>0.476079</td>\n    </tr>\n    <tr>\n      <th>7</th>\n      <td>0.367388</td>\n      <td>0.187091</td>\n      <td>0.476079</td>\n    </tr>\n    <tr>\n      <th>8</th>\n      <td>0.367388</td>\n      <td>0.187091</td>\n      <td>0.476079</td>\n    </tr>\n    <tr>\n      <th>9</th>\n      <td>0.367388</td>\n      <td>0.187091</td>\n      <td>0.476079</td>\n    </tr>\n  </tbody>\n</table>\n</div>"
     },
     "metadata": {},
     "execution_count": 28
    }
   ],
   "source": [
    "import numpy as np \n",
    "import pandas as pd \n",
    "\n",
    "data = {'name':pd.Series(['강감찬','이순신','홍길동']),\n",
    "        'age':pd.Series([20,30,40]),\n",
    "        'salary':pd.Series([2000,3000,4000])}\n",
    "\n",
    "df = pd.DataFrame(data)\n",
    "df.shape# 3, 3 \n",
    "df.ndim #2차원\n",
    "df.sum(1)\n",
    "df.mean()\n",
    "df.std()\n",
    "df.count()\n",
    "df.median()\n",
    "df.min()\n",
    "df.max()\n",
    "df.describe()\n",
    "\n",
    "# 100 50 50 의 평균 =200\n",
    "# 100 100 0 의 평균 =200\n",
    "\n",
    "data2 = {'name':pd.Series(['강감찬','이순신','홍길동','연개소문','정약용','을지문덕','이성계','권율']),\n",
    "        'age':pd.Series([20,30,40,50,60,70,80,90]),\n",
    "        'salary':pd.Series([2000,3000,4000,5000,6000,7000,8000,9000])}\n",
    "\n",
    "df2 =pd.DataFrame(data2)\n",
    "df2\n",
    "\n",
    "df3 = df2.reindex(index = [0,2,5],columns =['name','salary','grade'])\n",
    "df3\n",
    "\n",
    "df4 = pd.DataFrame(np.random.randn(10,3),columns=['col1','col2','col3'])\n",
    "df5 = pd.DataFrame(np.random.randn(7,3),columns=['col1','col2','col3'])\n",
    "df5.reindex_like(df4,method=\"ffill\")#값이 자동 채워짐 "
   ]
  }
 ],
 "metadata": {
  "language_info": {
   "codemirror_mode": {
    "name": "ipython",
    "version": 3
   },
   "file_extension": ".py",
   "mimetype": "text/x-python",
   "name": "python",
   "nbconvert_exporter": "python",
   "pygments_lexer": "ipython3",
   "version": "3.7.7-final"
  },
  "orig_nbformat": 2,
  "kernelspec": {
   "name": "python37764bit940e9a0491dc4d3e8247a21ac52a332e",
   "display_name": "Python 3.7.7 64-bit"
  }
 },
 "nbformat": 4,
 "nbformat_minor": 2
}