{
 "cells": [
  {
   "cell_type": "code",
   "execution_count": 31,
   "metadata": {},
   "outputs": [
    {
     "output_type": "stream",
     "name": "stdout",
     "text": "(3,) (2, 2) (1, 5)\nint32 int32 int32 complex128\n1 2 2 1\n"
    }
   ],
   "source": [
    "import numpy as np\n",
    "a=np.array([1,2,3])\n",
    "a\n",
    "type(a)\n",
    "a1=np.array([[1,2],[3,4]])\n",
    "a1\n",
    "type(a1)\n",
    "a2=np.array([1,2,3,4,5],ndmin=2)\n",
    "a2\n",
    "a3=np.array([1,2,3],dtype=complex)\n",
    "a3\n",
    "print(a.shape,a1.shape,a2.shape)\n",
    "print(a.dtype,a1.dtype,a2.dtype,a3.dtype)\n",
    "print(a.ndim,a1.ndim,a2.ndim,a3.ndim)"
   ]
  },
  {
   "cell_type": "code",
   "execution_count": 41,
   "metadata": {},
   "outputs": [
    {
     "output_type": "stream",
     "name": "stdout",
     "text": "float64\n"
    }
   ],
   "source": [
    "a4=np.array([1,2,3,4,5,6,7])\n",
    "a4.size,a4.shape\n",
    "\n",
    "#numpy.array(object, dtype, copy, order, ndmin)\n",
    "#numpy.dtype(object)\n",
    "dt=np.dtype(np.int32)\n",
    "dt\n",
    "a5=np.array([1,2,3],dtype=\"float64\")\n",
    "a5\n",
    "print(a5.dtype)\n"
   ]
  },
  {
   "cell_type": "code",
   "execution_count": 43,
   "metadata": {},
   "outputs": [
    {
     "output_type": "stream",
     "name": "stdout",
     "text": "Wall time: 204 ms\nWall time: 8.38 s\n"
    }
   ],
   "source": [
    "import numpy as np \n",
    "my_arr=np.arange(10000000)\n",
    "my_list=list(range(10000000))\n",
    "%time for _ in range(10): my_arr2=my_arr * 2\n",
    "%time for _ in range(10): my_list2=[x*2 for x in my_list]\n"
   ]
  },
  {
   "cell_type": "code",
   "execution_count": 50,
   "metadata": {},
   "outputs": [
    {
     "output_type": "execute_result",
     "data": {
      "text/plain": "array([[0.33541218, 0.05969924, 0.33835398, 0.22832617],\n       [0.38286931, 0.13721278, 0.50877983, 0.10636567],\n       [0.22003392, 0.37680531, 0.41693728, 0.17112999],\n       [0.22541428, 0.86273277, 0.25307444, 0.16028403],\n       [0.53031087, 0.89483644, 0.7494375 , 0.05070476]])"
     },
     "metadata": {},
     "execution_count": 50
    }
   ],
   "source": [
    "import numpy as np \n",
    "data = np.random.randn(2,3)\n",
    "data\n",
    "data * 10\n",
    "data+data\n",
    "data.shape\n",
    "data.dtype\n",
    "data1=[6,7.5,8,0,1]\n",
    "arr1=np.array(data1)\n",
    "arr1\n",
    "data2=[[1,2,3,4],[5,6,7,8]]\n",
    "arr2=np.array(data2)\n",
    "arr2\n",
    "\n",
    "arr2.ndim\n",
    "arr2.shape\n",
    "arr1.dtype\n",
    "arr2.dtype\n",
    "np.zeros(10)\n",
    "np.zeros((3,6))\n",
    "np.zeros((2,3,2))\n",
    "np.arange(15)\n",
    "arr1=np.array([1,2,3],dtype=np.float64)\n",
    "arr2=np.array([1,2,3],dtype=np.int32)\n",
    "arr1.dtype\n",
    "arr2.dtype\n",
    "\n",
    "arr=np.array([1,2,3,4,5])\n",
    "arr.dtype\n",
    "float_arr=arr.astype(np.float64)\n",
    "float_arr.dtype\n",
    "arr=np.array([3.7, -1.2, -2.6, 0.5, 12.9, 10.1 ])\n",
    "arr\n",
    "arr.astype(np.int32)\n",
    "\n",
    "numeric_strings=np.array(['1.25','-9.6', '42'],dtype=np.string_)\n",
    "numeric_strings.astype(float)\n",
    "int_array =  np.arange(10)\n",
    "calibers = np.array([.22, .270, .357, .380, .44, .50],dtype=np.float64)\n",
    "int_array.astype(calibers.dtype)\n",
    "\n",
    "empty_uint32 = np.empty(8, dtype = 'u4')\n",
    "empty_uint32\n",
    "\n",
    "arr = np.array([[1.,2.,3.],[4.,5.,6.]])\n",
    "arr\n",
    "\n",
    "arr * arr\n",
    "arr - arr\n",
    "1 / arr\n",
    "arr ** 0.5\n",
    "arr2 = np.array([[0.,4.,1.],[7.,2.,12.]])\n",
    "arr2\n",
    "arr2>arr\n",
    "\n",
    "arr= np.arange(10)\n",
    "arr\n",
    "\n",
    "arr[5]\n",
    "arr[5:8]\n",
    "arr[5:8] = 12\n",
    "arr\n",
    "arr_slice = arr[5:8]\n",
    "arr_slice\n",
    "\n",
    "arr_slice[1] = 12345\n",
    "arr\n",
    "arr_slice[:] = 64\n",
    "arr\n",
    "arr[1:6]\n",
    "\n",
    "arr2d = np.array([[1,2,3],[4,5,6],[7,8,9]])\n",
    "arr2d\n",
    "arr2d[:2]\n",
    "arr2d[:2, 1:]\n",
    "arr2d[1,:2]\n",
    "arr2d[:2,1:]=0\n",
    "arr2d\n",
    "\n",
    "names = np.array(['Bob','Joe','Will','Bob','Will','Joe',\"joe\"])\n",
    "data = np.random.rand(7,4)\n",
    "names\n",
    "data\n",
    "\n",
    "names =='Bob'\n",
    "data[names == 'Bob']\n",
    "data[names == 'Bob',2:]\n",
    "data[names == 'Bob',3]\n",
    "names !='Bob'\n",
    "data[~(names == 'Bob')]\n",
    "\n"
   ]
  },
  {
   "cell_type": "code",
   "execution_count": 61,
   "metadata": {},
   "outputs": [
    {
     "output_type": "execute_result",
     "data": {
      "text/plain": "array([['언더워터', '5.7'],\n       ['위대한 쇼맨', '8.9'],\n       ['프리즌 이스케이프', '7.4'],\n       ['카페 벨에포크', '9'],\n       ['미스비헤이비어', '8.3'],\n       ['그집', '6.8'],\n       ['초미의 관심사', '8'],\n       ['패왕별희 디 오리지널', '9.3'],\n       ['더 플랫폼', '6.7'],\n       ['루팡 3세: 더 퍼스트', '8.7'],\n       ['트롤: 월드 투어', '8.4'],\n       ['조금씩，천천히 안녕', '6'],\n       ['톰보이', '8.3'],\n       ['날씨의 아이', '6.7'],\n       ['아홉 스님', '7'],\n       ['킬러의 보디가드 무삭제 특별판', '7.3'],\n       ['나는보리', '8.6'],\n       ['런 보이 런', '8.9'],\n       ['레이니 데이 인 뉴욕', '6.1'],\n       ['싸커 퀸즈', '']], dtype='<U16')"
     },
     "metadata": {},
     "execution_count": 61
    }
   ],
   "source": [
    "import time\n",
    "import requests\n",
    "from bs4 import BeautifulSoup\n",
    "import numpy as np\n",
    "\n",
    "URL = \"http://ticket2.movie.daum.net/Movie/MovieRankList.aspx\"\n",
    "\n",
    "res = requests.get(URL)\n",
    "soup = BeautifulSoup(res.content, 'lxml')\n",
    "box = soup.find_all('div', class_=\"desc_boxthumb\")\n",
    "\n",
    "data=[]\n",
    "count=0\n",
    "for movie in box:  \n",
    "    title, ranking = movie.find('strong', class_=\"tit_join\"), movie.find('em', class_=\"emph_grade\")\n",
    "    movie, grade = title.get_text().strip(), ranking.get_text().strip()\n",
    "    #print(movie, grade)\n",
    "    list=[movie, grade]\n",
    "    data.append[list]\n",
    "    count+=1\n",
    "d = np.array(data)\n",
    "d\n",
    "\n"
   ]
  }
 ],
 "metadata": {
  "language_info": {
   "codemirror_mode": {
    "name": "ipython",
    "version": 3
   },
   "file_extension": ".py",
   "mimetype": "text/x-python",
   "name": "python",
   "nbconvert_exporter": "python",
   "pygments_lexer": "ipython3",
   "version": "3.7.7-final"
  },
  "orig_nbformat": 2,
  "kernelspec": {
   "name": "python37764bit940e9a0491dc4d3e8247a21ac52a332e",
   "display_name": "Python 3.7.7 64-bit"
  }
 },
 "nbformat": 4,
 "nbformat_minor": 2
}