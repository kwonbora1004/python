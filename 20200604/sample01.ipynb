{
 "cells": [
  {
   "cell_type": "code",
   "execution_count": 16,
   "metadata": {
    "tags": [
     "outputPrepend"
    ]
   },
   "outputs": [
    {
     "output_type": "stream",
     "name": "stdout",
     "text": "addr      code        lat         lng  \\\n0             대구광역시 남구 중앙대로29길 27 (대명동)  37811461  35.846002  128.588814   \n1               경기도 광명시 시청로 30 1층 (철산동)  31896359  37.479424  126.864114   \n2                   경기도 화성시 정남면 만년로 540  31863515  37.169471  126.983655   \n3  경상남도 창원시 의창구 원이대로 269 (봉곡동, 한빛메디칼센터)  38810859  35.243272  128.649791   \n4    경기도 화성시 동탄지성로 136 203호 (능동, 우리프라자)  41812816  37.209666  127.060701   \n5               경상남도 진주시 도동천로 113 (상대동)  38807955  35.181304  128.111897   \n6             대구광역시 수성구 수성로 329 (수성동1가)  37849182  35.854896  128.613387   \n\n     name remain_stat  \n0   대학당약국      plenty  \n1    이화약국      plenty  \n2  100세약국      plenty  \n3    예은약국      plenty  \n4  능동키즈약국      plenty  \n5    우인약국      plenty  \n6    두배약국        some  \n"
    },
    {
     "output_type": "execute_result",
     "data": {
      "text/plain": "<folium.folium.Map at 0x1cf27c48bc8>",
      "text/html": "<div style=\"width:100%;\"><div style=\"position:relative;width:100%;height:0;padding-bottom:60%;\"><span style=\"color:#565656\">Make this Notebook Trusted to load map: File -> Trust Notebook</span><iframe src=\"about:blank\" style=\"position:absolute;width:100%;height:100%;left:0;top:0;border:none !important;\" data-html=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 onload=\"this.contentDocument.open();this.contentDocument.write(atob(this.getAttribute('data-html')));this.contentDocument.close();\" allowfullscreen webkitallowfullscreen mozallowfullscreen></iframe></div></div>"
     },
     "metadata": {},
     "execution_count": 16
    }
   ],
   "source": [
    "import numpy as np\n",
    "import pandas as pd\n",
    "import requests\n",
    "import json\n",
    "import folium\n",
    "\n",
    "url_stores = \"https://8oi9s0nnth.apigw.ntruss.com/corona19-masks/v1/stores/json\"\n",
    "url_sales = \"https://8oi9s0nnth.apigw.ntruss.com/corona19-masks/v1/sales/json?page=1\"\n",
    "json_stores = requests.get(url_stores).json()\n",
    "json_sales = requests.get(url_sales).json()\n",
    "json_stores\n",
    "# json_sales\n",
    "\n",
    "data_stores = []\n",
    "size_stores = len(json_stores['storeInfos'])\n",
    "for inx in range(size_stores):\n",
    "    # print(json_stores['storeInfos'][inx]['code'], json_stores['storeInfos'][inx]['name'])\n",
    "    addr, code, lat, lng, name = json_stores['storeInfos'][inx]['addr'],\\\n",
    "                                json_stores['storeInfos'][inx]['code'], \\\n",
    "                                json_stores['storeInfos'][inx]['lat'],\\\n",
    "                                json_stores['storeInfos'][inx]['lng'], \\\n",
    "                                json_stores['storeInfos'][inx]['name']\n",
    "\n",
    "    data_stores.append([addr, code, lat, lng, name])\n",
    "\n",
    "\n",
    "data_sales = []\n",
    "size_sales = len(json_sales['sales'])\n",
    "for inx in range(size_sales):\n",
    "    # print(json_sales['sales'][inx]['code'],json_sales['sales'][inx]['remain_stat'])\n",
    "    code, remain_stat = json_sales['sales'][inx]['code'],json_sales['sales'][inx]['remain_stat']\n",
    "    data_sales.append([code, remain_stat])\n",
    "\n",
    "df_stores = pd.DataFrame(data_stores, columns=['addr', 'code', 'lat', 'lng', 'name'])\n",
    "df_sales = pd.DataFrame(data_sales, columns=['code','remain_stat'])\n",
    "#df_stores\n",
    "df = pd.merge(df_stores, df_sales,on=\"code\")\n",
    "print(df)\n",
    "#   \"lat\": 36.6029863,\n",
    "#     \"lng\": 126.5489114,\n",
    "mean_lat = df_stores['lat'].mean()\n",
    "mean_lng = df_stores['lng'].mean()\n",
    "\n",
    "mapping=folium.Map(location=[mean_lat,mean_lng], zoom_start=11)\n",
    "\n",
    "for inx in df.index:\n",
    "    #print(inx)\n",
    "    folium.Marker([df['lat'][inx],df['lng'][inx]] ,popup=folium.Popup(df['addr'][inx])).add_to(mapping)\n",
    "mapping\n",
    "\n",
    "\n",
    "\n",
    "# for inx in df_stores.index:\n",
    "#     #print(inx)\n",
    "#     folium.Marker([df_stores['lat'][inx],df_stores['lng'][inx]] ,popup=folium.Popup(df_stores['addr'][inx])).add_to(mapping)\n",
    "# mapping\n",
    "#mapping.save(\"test.html\")\n",
    "# df_stores\n",
    "# df_sales\n",
    "# df = pd.merge(df_stores, df_sales, on='code')\n",
    "# df\n",
    "# kinds = {'plenty' : '충분함', 'some' : '보통'}\n",
    "# df['remain_stat'] = df['remain_stat'].map(kinds)\n",
    "# df\n"
   ]
  },
  {
   "cell_type": "code",
   "execution_count": null,
   "metadata": {},
   "outputs": [],
   "source": []
  }
 ],
 "metadata": {
  "language_info": {
   "codemirror_mode": {
    "name": "ipython",
    "version": 3
   },
   "file_extension": ".py",
   "mimetype": "text/x-python",
   "name": "python",
   "nbconvert_exporter": "python",
   "pygments_lexer": "ipython3",
   "version": "3.7.7-final"
  },
  "orig_nbformat": 2,
  "kernelspec": {
   "name": "python37764bit940e9a0491dc4d3e8247a21ac52a332e",
   "display_name": "Python 3.7.7 64-bit"
  }
 },
 "nbformat": 4,
 "nbformat_minor": 2
}