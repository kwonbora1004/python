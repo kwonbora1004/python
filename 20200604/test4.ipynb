{
 "cells": [
  {
   "cell_type": "code",
   "execution_count": 32,
   "metadata": {},
   "outputs": [
    {
     "output_type": "execute_result",
     "data": {
      "text/plain": "      Points  Rank  Team\nYear                    \n2014       4     4     4\n2015       4     4     4\n2016       2     2     2\n2017       2     2     2",
      "text/html": "<div>\n<style scoped>\n    .dataframe tbody tr th:only-of-type {\n        vertical-align: middle;\n    }\n\n    .dataframe tbody tr th {\n        vertical-align: top;\n    }\n\n    .dataframe thead th {\n        text-align: right;\n    }\n</style>\n<table border=\"1\" class=\"dataframe\">\n  <thead>\n    <tr style=\"text-align: right;\">\n      <th></th>\n      <th>Points</th>\n      <th>Rank</th>\n      <th>Team</th>\n    </tr>\n    <tr>\n      <th>Year</th>\n      <th></th>\n      <th></th>\n      <th></th>\n    </tr>\n  </thead>\n  <tbody>\n    <tr>\n      <th>2014</th>\n      <td>4</td>\n      <td>4</td>\n      <td>4</td>\n    </tr>\n    <tr>\n      <th>2015</th>\n      <td>4</td>\n      <td>4</td>\n      <td>4</td>\n    </tr>\n    <tr>\n      <th>2016</th>\n      <td>2</td>\n      <td>2</td>\n      <td>2</td>\n    </tr>\n    <tr>\n      <th>2017</th>\n      <td>2</td>\n      <td>2</td>\n      <td>2</td>\n    </tr>\n  </tbody>\n</table>\n</div>"
     },
     "metadata": {},
     "execution_count": 32
    }
   ],
   "source": [
    "import numpy as np \n",
    "import pandas as pd \n",
    "\n",
    "df=pd.read_csv(\"data.csv\")\n",
    "df.groupby ('Team').groups\n",
    "df\n",
    "df.groupby ('Team').groups\n",
    "df.groupby(['Team','Year']).groups\n",
    "grouped = df.groupby ('Team').groups\n",
    "\n",
    "grouped = df.groupby(\"Year\")\n",
    "# for name, group in grouped:\n",
    "#     print(name)\n",
    "#     print(group)\n",
    "\n",
    "grouped.get_group(2014)\n",
    "\n",
    "grouped2 = df['Points'].groupby(df['Year'])\n",
    "grouped2.mean()\n",
    "grouped2.sum()\n",
    "\n",
    "# for p in grouped2:\n",
    "#     print(p)\n",
    "\n",
    "grouped3 = df.groupby(['Team','Year'])\n",
    "# for name, group in grouped3:\n",
    "#     print(name)\n",
    "#     print(group)\n",
    "\n",
    "grouped4 = df.groupby('Year')\n",
    "grouped4['Points'].agg(np.mean)\n",
    "grouped4.agg(np.size)"
   ]
  },
  {
   "cell_type": "code",
   "execution_count": 45,
   "metadata": {},
   "outputs": [
    {
     "output_type": "execute_result",
     "data": {
      "text/plain": "key1  key2\na     one     2\n      two     1\nb     one     1\n      two     1\ndtype: int64"
     },
     "metadata": {},
     "execution_count": 45
    }
   ],
   "source": [
    "df = pd.DataFrame({'key1':['a','a','b','b','a'],\n",
    "                    'key2':['one','two','one','two','one'],\n",
    "                    'data1':np.random.randn(5),\n",
    "                    'data2':np.random.randn(5)})\n",
    "df\n",
    "grouped = df['data1'].groupby(df['key1'])\n",
    "grouped\n",
    "\n",
    "grouped.mean()\n",
    "means = df['data1'].groupby([df['key1'],df['key2']]).mean()\n",
    "means\n",
    "means.unstack()\n",
    "\n",
    "states = np.array(['Ohio','California','California','Ohio','Ohio'])\n",
    "years = np.array([2005,2005,2006,2005,2006])\n",
    "df['data1'].groupby([states,years]).mean()\n",
    "df.groupby('key1').mean()\n",
    "df.groupby(['key1','key2']).mean()\n",
    "df.groupby(['key1','key2']).size()\n"
   ]
  }
 ],
 "metadata": {
  "language_info": {
   "codemirror_mode": {
    "name": "ipython",
    "version": 3
   },
   "file_extension": ".py",
   "mimetype": "text/x-python",
   "name": "python",
   "nbconvert_exporter": "python",
   "pygments_lexer": "ipython3",
   "version": "3.7.7-final"
  },
  "orig_nbformat": 2,
  "kernelspec": {
   "name": "python37764bit940e9a0491dc4d3e8247a21ac52a332e",
   "display_name": "Python 3.7.7 64-bit"
  }
 },
 "nbformat": 4,
 "nbformat_minor": 2
}