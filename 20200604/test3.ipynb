{
 "cells": [
  {
   "cell_type": "code",
   "execution_count": 24,
   "metadata": {},
   "outputs": [
    {
     "output_type": "execute_result",
     "data": {
      "text/plain": "     0          \n     1    2    3\na  1.0  2.0  3.0\nb  4.0  NaN  5.0\nc  6.0  7.0  NaN\nd  NaN  8.0  9.0",
      "text/html": "<div>\n<style scoped>\n    .dataframe tbody tr th:only-of-type {\n        vertical-align: middle;\n    }\n\n    .dataframe tbody tr th {\n        vertical-align: top;\n    }\n\n    .dataframe thead tr th {\n        text-align: left;\n    }\n</style>\n<table border=\"1\" class=\"dataframe\">\n  <thead>\n    <tr>\n      <th></th>\n      <th colspan=\"3\" halign=\"left\">0</th>\n    </tr>\n    <tr>\n      <th></th>\n      <th>1</th>\n      <th>2</th>\n      <th>3</th>\n    </tr>\n  </thead>\n  <tbody>\n    <tr>\n      <th>a</th>\n      <td>1.0</td>\n      <td>2.0</td>\n      <td>3.0</td>\n    </tr>\n    <tr>\n      <th>b</th>\n      <td>4.0</td>\n      <td>NaN</td>\n      <td>5.0</td>\n    </tr>\n    <tr>\n      <th>c</th>\n      <td>6.0</td>\n      <td>7.0</td>\n      <td>NaN</td>\n    </tr>\n    <tr>\n      <th>d</th>\n      <td>NaN</td>\n      <td>8.0</td>\n      <td>9.0</td>\n    </tr>\n  </tbody>\n</table>\n</div>"
     },
     "metadata": {},
     "execution_count": 24
    }
   ],
   "source": [
    "import numpy as np \n",
    "import pandas as pd \n",
    "\n",
    "df = pd.DataFrame([1,2,3,4,5,6,7,8,9],\n",
    "                index = [['a','a','a','b','b','c','c','d','d'],\n",
    "                        [1,2,3,1,3,1,2,2,3]])\n",
    "df.index\n",
    "df.loc[[1,'d']]\n",
    "df.loc['a',1]\n",
    "df2=df.unstack()\n",
    "df2.stack()\n",
    "df2\n"
   ]
  },
  {
   "cell_type": "code",
   "execution_count": 33,
   "metadata": {},
   "outputs": [
    {
     "output_type": "execute_result",
     "data": {
      "text/plain": "a  1    0.466709\n   2    0.977278\n   3   -0.179863\nb  1    0.503474\n   3   -0.486473\nc  1   -0.856595\n   2   -1.240995\nd  2   -0.643867\n   3   -1.049810\ndtype: float64"
     },
     "metadata": {},
     "execution_count": 33
    }
   ],
   "source": [
    "data= pd.Series(np.random.randn(9),\n",
    "                index = [['a','a','a','b','b','c','c','d','d'],\n",
    "                        [1,2,3,1,3,1,2,2,3]])\n",
    "data\n",
    "data.index\n",
    "data['b']\n",
    "data['b':'c']\n",
    "data.loc[['b','d']]\n",
    "data.loc[:,2]\n",
    "\n",
    "data.unstack()\n",
    "data.unstack().stack()\n"
   ]
  },
  {
   "cell_type": "code",
   "execution_count": 51,
   "metadata": {},
   "outputs": [
    {
     "output_type": "execute_result",
     "data": {
      "text/plain": "     1학기     2학기     \n      과학  수학  과학   수학\n강감찬   30  20  90   10\n권율    40  90  90  100\n이순신   80  30  50   40\n홍길동  100  10  30   20",
      "text/html": "<div>\n<style scoped>\n    .dataframe tbody tr th:only-of-type {\n        vertical-align: middle;\n    }\n\n    .dataframe tbody tr th {\n        vertical-align: top;\n    }\n\n    .dataframe thead tr th {\n        text-align: left;\n    }\n</style>\n<table border=\"1\" class=\"dataframe\">\n  <thead>\n    <tr>\n      <th></th>\n      <th colspan=\"2\" halign=\"left\">1학기</th>\n      <th colspan=\"2\" halign=\"left\">2학기</th>\n    </tr>\n    <tr>\n      <th></th>\n      <th>과학</th>\n      <th>수학</th>\n      <th>과학</th>\n      <th>수학</th>\n    </tr>\n  </thead>\n  <tbody>\n    <tr>\n      <th>강감찬</th>\n      <td>30</td>\n      <td>20</td>\n      <td>90</td>\n      <td>10</td>\n    </tr>\n    <tr>\n      <th>권율</th>\n      <td>40</td>\n      <td>90</td>\n      <td>90</td>\n      <td>100</td>\n    </tr>\n    <tr>\n      <th>이순신</th>\n      <td>80</td>\n      <td>30</td>\n      <td>50</td>\n      <td>40</td>\n    </tr>\n    <tr>\n      <th>홍길동</th>\n      <td>100</td>\n      <td>10</td>\n      <td>30</td>\n      <td>20</td>\n    </tr>\n  </tbody>\n</table>\n</div>"
     },
     "metadata": {},
     "execution_count": 51
    }
   ],
   "source": [
    "import numpy as np \n",
    "import pandas as pd \n",
    "#pip install xlrd\n",
    "df5=pd.read_excel(\"score.xlsx\",header=0,index_col=0,sheet_name=\"Sheet2\")\n",
    "df5.stack()\n",
    "df5.stack().unstack()\n",
    "\n",
    "df6=pd.read_excel(\"score.xlsx\",header=[0,1],index_col=0,sheet_name=\"Sheet1\")\n",
    "df6.stack()\n",
    "df6.stack().unstack()\n",
    "df6.stack(level=0)\n",
    "df6.stack(level=1).unstack()"
   ]
  }
 ],
 "metadata": {
  "language_info": {
   "codemirror_mode": {
    "name": "ipython",
    "version": 3
   },
   "file_extension": ".py",
   "mimetype": "text/x-python",
   "name": "python",
   "nbconvert_exporter": "python",
   "pygments_lexer": "ipython3",
   "version": "3.7.7-final"
  },
  "orig_nbformat": 2,
  "kernelspec": {
   "name": "python37764bit940e9a0491dc4d3e8247a21ac52a332e",
   "display_name": "Python 3.7.7 64-bit"
  }
 },
 "nbformat": 4,
 "nbformat_minor": 2
}