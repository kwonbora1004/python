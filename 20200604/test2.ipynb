{
 "cells": [
  {
   "cell_type": "code",
   "execution_count": 1,
   "metadata": {},
   "outputs": [
    {
     "output_type": "execute_result",
     "data": {
      "text/plain": "                col1      col2      col3\n2020-01-06       NaN       NaN       NaN\n2020-01-07       NaN       NaN       NaN\n2020-01-08  0.043270 -0.082962  0.163748\n2020-01-09 -0.035851 -0.361332  0.084006\n2020-01-10 -0.176492 -0.510153 -0.527766\n2020-01-11  0.091151 -0.279429 -0.067915\n2020-01-12  0.297789 -0.279405  0.482720\n2020-01-13  0.128794  0.239075  1.182328\n2020-01-14 -0.443781  0.256568  0.395036\n2020-01-15 -0.108468  0.592564 -0.104575",
      "text/html": "<div>\n<style scoped>\n    .dataframe tbody tr th:only-of-type {\n        vertical-align: middle;\n    }\n\n    .dataframe tbody tr th {\n        vertical-align: top;\n    }\n\n    .dataframe thead th {\n        text-align: right;\n    }\n</style>\n<table border=\"1\" class=\"dataframe\">\n  <thead>\n    <tr style=\"text-align: right;\">\n      <th></th>\n      <th>col1</th>\n      <th>col2</th>\n      <th>col3</th>\n    </tr>\n  </thead>\n  <tbody>\n    <tr>\n      <th>2020-01-06</th>\n      <td>NaN</td>\n      <td>NaN</td>\n      <td>NaN</td>\n    </tr>\n    <tr>\n      <th>2020-01-07</th>\n      <td>NaN</td>\n      <td>NaN</td>\n      <td>NaN</td>\n    </tr>\n    <tr>\n      <th>2020-01-08</th>\n      <td>0.043270</td>\n      <td>-0.082962</td>\n      <td>0.163748</td>\n    </tr>\n    <tr>\n      <th>2020-01-09</th>\n      <td>-0.035851</td>\n      <td>-0.361332</td>\n      <td>0.084006</td>\n    </tr>\n    <tr>\n      <th>2020-01-10</th>\n      <td>-0.176492</td>\n      <td>-0.510153</td>\n      <td>-0.527766</td>\n    </tr>\n    <tr>\n      <th>2020-01-11</th>\n      <td>0.091151</td>\n      <td>-0.279429</td>\n      <td>-0.067915</td>\n    </tr>\n    <tr>\n      <th>2020-01-12</th>\n      <td>0.297789</td>\n      <td>-0.279405</td>\n      <td>0.482720</td>\n    </tr>\n    <tr>\n      <th>2020-01-13</th>\n      <td>0.128794</td>\n      <td>0.239075</td>\n      <td>1.182328</td>\n    </tr>\n    <tr>\n      <th>2020-01-14</th>\n      <td>-0.443781</td>\n      <td>0.256568</td>\n      <td>0.395036</td>\n    </tr>\n    <tr>\n      <th>2020-01-15</th>\n      <td>-0.108468</td>\n      <td>0.592564</td>\n      <td>-0.104575</td>\n    </tr>\n  </tbody>\n</table>\n</div>"
     },
     "metadata": {},
     "execution_count": 1
    }
   ],
   "source": [
    "import numpy as np\n",
    "import pandas as pd\n",
    "\n",
    "df = pd.DataFrame(np.random.randn(10,3),    \n",
    "                index = pd.date_range('01/06/2020',periods=10),\n",
    "                columns=['col1','col2','col3'])\n",
    "# df.head()\n",
    "# df.shape\n",
    "\n",
    "df.rolling(window=3).mean()\n"
   ]
  },
  {
   "cell_type": "code",
   "execution_count": 25,
   "metadata": {},
   "outputs": [
    {
     "output_type": "execute_result",
     "data": {
      "text/plain": "0    300\n1      2\n2      3\n3      4\ndtype: int64"
     },
     "metadata": {},
     "execution_count": 25
    }
   ],
   "source": [
    "# df2 =  pd.DataFrame([[1,2,3]])\n",
    "# df2\n",
    "# df3 = df2.iloc[:,:1]\n",
    "# df3\n",
    "# df2\n",
    "\n",
    "# df3[0] = 100\n",
    "# df3 \n",
    "# df2 \n",
    "\n",
    "ds = pd.Series([1,2,3,4])\n",
    "ds[0] = 100\n",
    "ds\n",
    "ds1 = ds[:1]\n",
    "ds1[0] = 300 \n",
    "ds1 \n",
    "ds"
   ]
  },
  {
   "cell_type": "code",
   "execution_count": 13,
   "metadata": {},
   "outputs": [
    {
     "output_type": "execute_result",
     "data": {
      "text/plain": "     0\n2    1\n1    2\n0  300",
      "text/html": "<div>\n<style scoped>\n    .dataframe tbody tr th:only-of-type {\n        vertical-align: middle;\n    }\n\n    .dataframe tbody tr th {\n        vertical-align: top;\n    }\n\n    .dataframe thead th {\n        text-align: right;\n    }\n</style>\n<table border=\"1\" class=\"dataframe\">\n  <thead>\n    <tr style=\"text-align: right;\">\n      <th></th>\n      <th>0</th>\n    </tr>\n  </thead>\n  <tbody>\n    <tr>\n      <th>2</th>\n      <td>1</td>\n    </tr>\n    <tr>\n      <th>1</th>\n      <td>2</td>\n    </tr>\n    <tr>\n      <th>0</th>\n      <td>300</td>\n    </tr>\n  </tbody>\n</table>\n</div>"
     },
     "metadata": {},
     "execution_count": 13
    }
   ],
   "source": [
    "df3 = pd.DataFrame([3,2,1,])\n",
    "df3\n",
    "\n",
    "df4 = df3[:]\n",
    "df3.iloc[0] = 300\n",
    "df3\n",
    "df4\n",
    "\n",
    "#개별적으로 복사 \n",
    "df3.sort_values(by = [0],inplace=True)\n",
    "df3\n",
    "\n"
   ]
  },
  {
   "cell_type": "code",
   "execution_count": 32,
   "metadata": {},
   "outputs": [
    {
     "output_type": "execute_result",
     "data": {
      "text/plain": "0        pig\n1        cow\n2    chicken\n3        cow\n4        pig\nName: 0, dtype: object"
     },
     "metadata": {},
     "execution_count": 32
    }
   ],
   "source": [
    "list1 = [1,2,3,4,5]\n",
    "def add(x):\n",
    "    return x+100\n",
    "\n",
    "result1 =map(add,list1)\n",
    "list(result1)\n",
    "\n",
    "df5 = pd.DataFrame([[1,2],[3,4]], columns=['col1','col2'])\n",
    "df5['col1'].map(add)\n",
    "\n",
    "list2 = [1,2,3,2,1]\n",
    "df6 = pd.DataFrame(list2)\n",
    "df6\n",
    "kinds = {1:'pig',2:'cow',3:'chicken'}\n",
    "kinds\n",
    "df6[0].map(lambda y: kinds[y])\n",
    "\n",
    "def test(x):\n",
    "    kinds[x]\n",
    "df6[0].map(lambda y: kinds[y])\n"
   ]
  },
  {
   "cell_type": "code",
   "execution_count": 40,
   "metadata": {},
   "outputs": [
    {
     "output_type": "execute_result",
     "data": {
      "text/plain": "0       pig\n1       pig\n2       pig\n3       cow\n4       cow\n5       pig\n6       cow\n7       pig\n8    salmon\nName: food, dtype: object"
     },
     "metadata": {},
     "execution_count": 40
    }
   ],
   "source": [
    "data = pd.DataFrame({'food':['bacon','pulled pork','bacon','pastrami','corned beef','Bacon','pastrami','honey ham','nova lox'],\n",
    "                    'ounces':[4,3,12,6,7.5,8,3,5,6]})\n",
    "\n",
    "data\n",
    "\n",
    "meat_to_animal={'bacon':'pig',\n",
    "                'pulled pork':'pig',\n",
    "                'pastrami':'cow',\n",
    "                'corned beef':'cow',\n",
    "                'honey ham':'pig',\n",
    "                'nova lox': 'salmon'}\n",
    "\n",
    "lowercased = data['food'].str.lower()\n",
    "\n",
    "lowercased\n",
    "\n",
    "data['animal'] = lowercased.map(meat_to_animal)\n",
    "data\n",
    "\n",
    "data['food'].map(lambda x : meat_to_animal[x.lower() ])"
   ]
  }
 ],
 "metadata": {
  "language_info": {
   "codemirror_mode": {
    "name": "ipython",
    "version": 3
   },
   "file_extension": ".py",
   "mimetype": "text/x-python",
   "name": "python",
   "nbconvert_exporter": "python",
   "pygments_lexer": "ipython3",
   "version": "3.7.7-final"
  },
  "orig_nbformat": 2,
  "kernelspec": {
   "name": "python37764bit940e9a0491dc4d3e8247a21ac52a332e",
   "display_name": "Python 3.7.7 64-bit"
  }
 },
 "nbformat": 4,
 "nbformat_minor": 2
}