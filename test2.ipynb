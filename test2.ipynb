{
 "cells": [
  {
   "cell_type": "code",
   "execution_count": 31,
   "metadata": {},
   "outputs": [
    {
     "output_type": "stream",
     "name": "stdout",
     "text": "(3,) (2, 2) (1, 5)\nint32 int32 int32 complex128\n1 2 2 1\n"
    }
   ],
   "source": [
    "import numpy as np\n",
    "a=np.array([1,2,3])\n",
    "a\n",
    "type(a)\n",
    "a1=np.array([[1,2],[3,4]])\n",
    "a1\n",
    "type(a1)\n",
    "a2=np.array([1,2,3,4,5],ndmin=2)\n",
    "a2\n",
    "a3=np.array([1,2,3],dtype=complex)\n",
    "a3\n",
    "print(a.shape,a1.shape,a2.shape)\n",
    "print(a.dtype,a1.dtype,a2.dtype,a3.dtype)\n",
    "print(a.ndim,a1.ndim,a2.ndim,a3.ndim)"
   ]
  },
  {
   "cell_type": "code",
   "execution_count": 41,
   "metadata": {},
   "outputs": [
    {
     "output_type": "stream",
     "name": "stdout",
     "text": "float64\n"
    }
   ],
   "source": [
    "a4=np.array([1,2,3,4,5,6,7])\n",
    "a4.size,a4.shape\n",
    "\n",
    "#numpy.array(object, dtype, copy, order, ndmin)\n",
    "#numpy.dtype(object)\n",
    "dt=np.dtype(np.int32)\n",
    "dt\n",
    "a5=np.array([1,2,3],dtype=\"float64\")\n",
    "a5\n",
    "print(a5.dtype)\n"
   ]
  },
  {
   "cell_type": "code",
   "execution_count": 43,
   "metadata": {},
   "outputs": [
    {
     "output_type": "stream",
     "name": "stdout",
     "text": "Wall time: 204 ms\nWall time: 8.38 s\n"
    }
   ],
   "source": [
    "import numpy as np \n",
    "my_arr=np.arange(10000000)\n",
    "my_list=list(range(10000000))\n",
    "%time for _ in range(10): my_arr2=my_arr * 2\n",
    "%time for _ in range(10): my_list2=[x*2 for x in my_list]\n"
   ]
  },
  {
   "cell_type": "code",
   "execution_count": 78,
   "metadata": {},
   "outputs": [
    {
     "output_type": "execute_result",
     "data": {
      "text/plain": "array([ 3, -1, -2,  0, 12, 10])"
     },
     "metadata": {},
     "execution_count": 78
    }
   ],
   "source": [
    "import numpy as np \n",
    "data = np.random.randn(2,3)\n",
    "data\n",
    "data * 10\n",
    "data+data\n",
    "data.shape\n",
    "data.dtype\n",
    "data1=[6,7.5,8,0,1]\n",
    "arr1=np.array(data1)\n",
    "arr1\n",
    "data2=[[1,2,3,4],[5,6,7,8]]\n",
    "arr2=np.array(data2)\n",
    "arr2\n",
    "\n",
    "arr2.ndim\n",
    "arr2.shape\n",
    "arr1.dtype\n",
    "arr2.dtype\n",
    "np.zeros(10)\n",
    "np.zeros((3,6))\n",
    "np.zeros((2,3,2))\n",
    "np.arange(15)\n",
    "arr1=np.array([1,2,3],dtype=np.float64)\n",
    "arr2=np.array([1,2,3],dtype=np.int32)\n",
    "arr1.dtype\n",
    "arr2.dtype\n",
    "\n",
    "arr=np.array([1,2,3,4,5])\n",
    "arr.dtype\n",
    "float_arr=arr.astype(np.float64)\n",
    "float_arr.dtype\n",
    "arr=np.array([3.7, -1.2, -2.6, 0.5, 12.9, 10.1 ])\n",
    "arr\n",
    "arr.astype(np.int32)\n",
    "\n",
    "# numeric_strings=np.array(['1.25','-9.6', '42'],dtype=np.string_)\n",
    "# numeric_strings.astype(float)"
   ]
  }
 ],
 "metadata": {
  "language_info": {
   "codemirror_mode": {
    "name": "ipython",
    "version": 3
   },
   "file_extension": ".py",
   "mimetype": "text/x-python",
   "name": "python",
   "nbconvert_exporter": "python",
   "pygments_lexer": "ipython3",
   "version": "3.7.7-final"
  },
  "orig_nbformat": 2,
  "kernelspec": {
   "name": "python37764bit940e9a0491dc4d3e8247a21ac52a332e",
   "display_name": "Python 3.7.7 64-bit"
  }
 },
 "nbformat": 4,
 "nbformat_minor": 2
}