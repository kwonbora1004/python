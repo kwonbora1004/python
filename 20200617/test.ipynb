{
 "cells": [
  {
   "cell_type": "code",
   "execution_count": null,
   "metadata": {},
   "outputs": [],
   "source": [
    "[a-zA-Z] : 알파벳 모두\n",
    "[0-9] : 숫자\n",
    "\\d - 숫자와 매치, [0-9]와 동일한 표현식이다.\n",
    "\\D - 숫자가 아닌 것과 매치, [^0-9]와 동일한 표현식이다.\n",
    "\\s - whitespace 문자와 매치, [ \\t\\n\\r\\f\\v]와 동일한 표현식이다. 맨 앞의 빈 칸은 공백문자(space)를 의미한다.\n",
    "\\S - whitespace 문자가 아닌 것과 매치, [^ \\t\\n\\r\\f\\v]와 동일한 표현식이다.\n",
    "\\w - 문자+숫자(alphanumeric)와 매치, [a-zA-Z0-9_]와 동일한 표현식이다.\n",
    "\\W - 문자+숫자(alphanumeric)가 아닌 문자와 매치, [^a-zA-Z0-9_]와 동일한 표현식이다.\n",
    "a.b\n",
    "위 정규식의 의미는 다음과 같다.\n",
    "\"a + 모든문자 + b\"\n",
    "\n",
    "즉 a와 b라는 문자 사이에 어떤 문자가 들어가도 모두 매치된다는 의미이다.\n",
    "\n",
    "a[.]b\n",
    "이 정규식의 의미는 다음과 같다.\n",
    "\n",
    "\"a + Dot(.)문자 + b\"\n",
    "\n",
    "따라서 정규식 a[.]b는 \"a.b\" 문자열과 매치되고, \"a0b\" 문자열과는 매치되지 않는다.\n",
    "반복 (*) a가 0부터 무한대로 반복될 수 있다는 의미이다.\n",
    "반복 (+) 반복을 나타내는 또 다른 메타 문자로 +가 있다. +는 최소 1번 이상 반복될 때 사용한다\n",
    ">>> import re\n",
    ">>> p = re.compile('ab*')\n",
    "\n",
    "match()\t문자열의 처음부터 정규식과 매치되는지 조사한다.\n",
    "search()\t문자열 전체를 검색하여 정규식과 매치되는지 조사한다.\n",
    "findall()\t정규식과 매치되는 모든 문자열(substring)을 리스트로 돌려준다.\n",
    "finditer()\t정규식과 매치되는 모든 문자열(substring)을 반복 가능한 객체로 돌려준다.\n",
    "\n",
    ">>> p = re.compile('[a-z]+')\n",
    ">>> m = p.match(\"python\")\n",
    "위 코드가 축약된 형태는 다음과 같다.\n",
    "\n",
    ">>> m = re.match('[a-z]+', \"python\")"
   ]
  },
  {
   "cell_type": "code",
   "execution_count": 76,
   "metadata": {},
   "outputs": [
    {
     "output_type": "execute_result",
     "data": {
      "text/plain": "'10 20 one two 30 four 40 50'"
     },
     "metadata": {},
     "execution_count": 76
    }
   ],
   "source": [
    "import re \n",
    "re.match('[0-9]{3}','010-')\n",
    "#전화 번호 패턴식 정의 \n",
    "#지역번호:2~3, 국번호:3!4 전화번호 4\n",
    "#각 번호 사이에는 대쉬 기호가 있음 \n",
    "re.match(\"[0-9]{2,3}-[0-9]{3,4}-[0-9]{4}\",\"02-1234-57895\")\n",
    "# re.match(\"???????\",\"042-1234-57895\")\n",
    "# re.match(\"???????\",\"02-123-57895\")\n",
    "# re.match(\"???????\",\"02-12346-57895\")#안됨\n",
    "\n",
    "#특수문자 판단\\(* + ? & $ . , - )\n",
    "re.search(\"\\*+\",\"3***2\") #문자열에 별이있는지 확인..\n",
    "\n",
    "# re.match('[A-z]+\\s+[0-9]+','Hello 1234') \n",
    "re.match('[A-Za-z\\s0-9]+','Hello 1234') # 문자와 숫자 자리 위치 상관 없음 \n",
    "\n",
    "\n",
    "m=re.match(\"([0-9]+) ([0-9]+)\",'10 100')\n",
    "m.end()\n",
    "m.start()\n",
    "m.group(0)\n",
    "\n",
    "re.match('[a-z]+\\([0-9]+\\)','println(1234)')\n",
    "m=re.match('(?P<fn>[a-zA-Z_][a-zA-Z_0-9]+)\\((?P<par>[a-zA-Z_0-9]+)\\)','asdbsadmprint2(asd)')\n",
    "\n",
    "m.group('fn')\n",
    "\n",
    "#<p>이녀석</p>\n",
    "re.findall('[0-9A-Za-z]+','1 2 one two 3 four 4 5')\n",
    "\n",
    "#패턴과 매칭되는 모든 숫자들을 num으로 치환 하시오 \n",
    "re.sub('[0-9]+','num','1 2 one two 3 four 4 5')\n",
    "\n",
    "def myFunc(m):\n",
    "    n = int(m.group())\n",
    "    return str(n*10)\n",
    "\n",
    "re.sub('[0-9]+',myFunc,'1 2 one two 3 four 4 5') # 바꿀문자열 자리에 함수 대입  \n",
    "# 1.패턴 매치되는걸 찾음  2.문자를 숫자로 바꿈 3.숫자를 문자로 다시 return  \n",
    "\n",
    "re.sub('[0-9]+',lambda m :str(int (m.group())*10),'1 2 one two 3 four 4 5')\n",
    "\n",
    "\n"
   ]
  },
  {
   "cell_type": "code",
   "execution_count": 81,
   "metadata": {},
   "outputs": [
    {
     "output_type": "execute_result",
     "data": {
      "text/plain": "<re.Match object; span=(0, 8), match='임꺽정ㅋㅋㅋㅋㅋ'>"
     },
     "metadata": {},
     "execution_count": 81
    }
   ],
   "source": [
    "re.match('[가-힣]+','임꺽정ㅋㅋㅋㅋㅋ')\n",
    "re.match('[가-힣ㄱ-ㅎ]+','임꺽정ㅋㅋㅋㅋㅋ')\n",
    "\n",
    "\n",
    "https://search.naver.com/search.naver?where=kin&kin_display=10&qt=&title=0&&answer=0&grade=0&choice=0&sec=0&nso=so%3Ar%2Ca%3Aall%2Cp%3Aall&query=%ED%8C%8C%EC%9D%B4%EC%8D%AC&c_id=&c_name=&sm=tab_pge&kin_start=1\n",
    "\n",
    "https://search.naver.com/search.naver?where=kin&kin_display=10&qt=&title=0&&answer=0&grade=0&choice=0&sec=0&nso=so%3Ar%2Ca%3Aall%2Cp%3Aall&query=%ED%8C%8C%EC%9D%B4%EC%8D%AC&c_id=&c_name=&sm=tab_pge&kin_start=11\n",
    "\n"
   ]
  }
 ],
 "metadata": {
  "language_info": {
   "codemirror_mode": {
    "name": "ipython",
    "version": 3
   },
   "file_extension": ".py",
   "mimetype": "text/x-python",
   "name": "python",
   "nbconvert_exporter": "python",
   "pygments_lexer": "ipython3",
   "version": "3.7.7-final"
  },
  "orig_nbformat": 2,
  "kernelspec": {
   "name": "python37764bit940e9a0491dc4d3e8247a21ac52a332e",
   "display_name": "Python 3.7.7 64-bit"
  }
 },
 "nbformat": 4,
 "nbformat_minor": 2
}