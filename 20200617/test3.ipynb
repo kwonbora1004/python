{
 "cells": [
  {
   "cell_type": "code",
   "execution_count": null,
   "metadata": {},
   "outputs": [],
   "source": [
    "1.toji.txt 대화부분 (\"\")추출\n",
    "\n",
    "2.네이버 지식인 검색어 :파이썬 -> 10페이지 질문. 답변 / 추출\n",
    "\n",
    "3. 이메일 주소 패턴 정의 \n",
    "-park@google.com , gd.park@test.co.kr     .은 하나두개 \n",
    "-안되는것  kim@abc \n"
   ]
  },
  {
   "cell_type": "code",
   "execution_count": 203,
   "metadata": {},
   "outputs": [
    {
     "output_type": "stream",
     "name": "stdout",
     "text": "파이썬인강 어디있나요 \n c언어 파이썬 언어로 \n 프로그래밍 파이썬 독학 \n 파이썬 저희애가 배우려고 하는데 \n 파이썬 pip 질문 \n 파이썬 코드 질문 \n 파이썬 질문입니다 \n 파이썬 혼자 \n 파이썬교육과정 질문 \n c언어 파이썬 관련 질문 \n 파이썬 독학 어떻게 하나요? \n 파이썬 for,range \n 파이썬 그래프 그리기 \n 파이썬이 쉬운편인가요? \n 파이썬프로그래밍을 배우면 일본취업에 유리할까요? \n 파이썬 설치에 대해... \n 파이썬 관련 질문 \n 파이썬 출력 관련 \n 파이썬학원 기초부터 하는곳 \n 노트북 인텔 파이썬 \n 파이썬 만으로 웹사이트 구축 가능한가요?? \n 파이썬 독학 \n 파이썬강좌 어디가 좋죠? \n 파이썬 공부는 어떻게 해볼까요?? \n 파이썬 조건문 \n 파이썬 질문 급합니다 \n 파이썬학원추천해주세요!! \n 파이썬 공부하는 방법알려주세요 \n 파이썬인강 추천 \n 파이썬 책 추천좀....... \n 파이썬학원 다니고싶어요! \n 파이썬 공부 \n 파이썬에 대해 잘 아시는 분 \n 파이썬 질문 \n 파이썬 프로그래밍 질문 \n 부산 파이썬학원 어디가 좋죠? \n 파이썬 리스트 \n 파이썬 질문 \n 파이썬 독학 질문이요!! \n 파이썬학원추천 해주세요. \n 파이썬 함수 도와주세요ㅠㅠ \n 파이썬 정규표현식 질문(re모듈) \n 파이썬 코딩 질문 \n 파이썬 개발자가 되고싶습니다. \n 파이썬 어떻게 배워야 할까요. \n 파이썬 강의 \n 파이썬 공부 \n 파이썬 복소수 표현.... \n 자바, 자바 스크립트, 파이썬을 모두 \n 파이썬 국비지원 \n 파이썬 for 구문 \n 파이썬 과제 좀 도와주세요ㅠㅠ \n 파이썬 공부 \n 프로그래밍 파이썬 독학 \n 파이썬 공부하는 법좀 알려주세요 \n 파이썬 에러 질문 \n 파이썬 관련해서 질문입니다! \n 프로그래밍언어 파이썬 독학 \n 프로그래밍 파이썬 공부 하려고하는데요\n 비전공자 파이썬 공부 어떻게 하나요 \n 파이썬 독학 하고싶습니다 \n 파이썬 과제 좀 도와주실 분 \n 파이썬 공부 하려고 하는데요 \n 나의 첫 파이썬 책 \n 비전공자 파이썬공부 \n 파이썬 클래스 인스턴스 호출 질문하고싶습니다 \n 파이썬 공부 하려고 하는데요 \n 파이썬 독학 공부에 대해 \n 파이썬 질문이요 \n 파이썬 딕셔너리 리스트 \n 파이썬 IDLE 실행오류 \n 파이썬 window \n 파이썬 질문 \n 파이썬 독학법 \n 파이썬 독학하려면 \n 파이썬 독학 \n 파이썬의 오류 모두 알려주세요~ \n 파이썬 질문입니다 \n 파이썬 이미지 없애기 \n 프로그래밍언어 파이썬 \n 파이썬 독학하려고 합니다 \n 파이썬 독학 가능할까요 \n 파이썬 알려줘요 \n 초보 파이썬 패키지 \n 파이썬 독학하는법 \n 파이썬 while문 질문 \n 파이썬 프로그램 \n 파이썬 독학 \n 파이썬 클래스의 init과 __init__ \n 프로그래밍언어 파이썬 독학 \n 파이썬 의사코드 작성 \n 프로그래밍파이썬 \n 파이썬 기초 질문이에요 \n 파이썬 준비해서 뭐해요?? \n 자바vs파이썬 \n 부산 파이썬학원 알려주세요 \n 파이썬 터틀이용 \n 파이썬 자바 \n 파이썬강좌 보면서 배우기. \n 파이썬 독학해보려합니다 \n"
    },
    {
     "output_type": "execute_result",
     "data": {
      "text/plain": "<dt class=\"question\"> <strong class=\"spkn\">질문</strong> <a href=\"https://kin.naver.com/qna/detail.nhn?d1id=4&amp;dirId=40608&amp;docId=359241542&amp;qb=7YyM7J207I2s&amp;enc=utf8§ion=kin&amp;rank=100&amp;search_sort=0&amp;spq=0\" onclick=\"return goOtherCR(this,'a=kin*q.tit&amp;r=100&amp;i=10000009_000015699746&amp;u='+urlencode(this.href));\" target=\"_blank\"> <strong class=\"hl\">파이썬</strong> 독학해보려합니다 </a> </dt>"
     },
     "metadata": {},
     "execution_count": 203
    }
   ],
   "source": [
    "import re \n",
    "from konlpy.tag import Kkma\n",
    "kkma = Kkma()\n",
    "#1\n",
    "data = open('toji.txt', encoding='UTF-16LE').read()\n",
    "\n",
    "data\n",
    "re.findall('[가-힣]', data )\n",
    "# <p>\"asdasdasdasd\"</p>\n",
    "\n",
    "\n",
    "data2 = re.findall('[\\\"가-힣\\.\\!\\?\\-\\.\\… ]+[\\\"]+', data )\n",
    "data2\n",
    "\n",
    "toji = []\n",
    "for i in data2:\n",
    "    kkma.nouns(i)\n",
    "    toji.append(kkma.nouns(i))\n",
    "print(toji)\n",
    "\n",
    "#2 \n",
    "import pandas as pd\n",
    "import numpy as np\n",
    "\n",
    "import platform\n",
    "import matplotlib.pyplot as plt\n",
    "\n",
    "%matplotlib inline\n",
    "\n",
    "path = \"c:/Windows/Fonts/malgun.ttf\"\n",
    "from matplotlib import font_manager, rc\n",
    "if platform.system() == 'Darwin':\n",
    "    rc('font', family='AppleGothic')\n",
    "elif platform.system() == 'Windows':\n",
    "    font_name = font_manager.FontProperties(fname=path).get_name()\n",
    "    rc('font', family=font_name)\n",
    "else:\n",
    "    print('Unknown system... sorry~~~~')    \n",
    "\n",
    "plt.rcParams['axes.unicode_minus'] = False\n",
    "\n",
    "from bs4 import BeautifulSoup \n",
    "from urllib.request import urlopen\n",
    "import urllib\n",
    "\n",
    "\n",
    "\n",
    "\n",
    "\n",
    "\n",
    "i = 1\n",
    "for i in range(1,100,10):\n",
    "\n",
    "    html = 'https://search.naver.com/search.naver?where=kin&kin_display=10&qt=&title=0&&answer=0&grade=0&choice=0&sec=0&nso=so%3Ar%2Ca%3Aall%2Cp%3Aall&query=%ED%8C%8C%EC%9D%B4%EC%8D%AC&c_id=&c_name=&sm=tab_pge&kin_start='+str(i)\n",
    "\n",
    "    response = urlopen(html.format(num=i,key_word=urllib.parse.quote('파이썬')))\n",
    "    soup = BeautifulSoup(response,'html.parser')\n",
    "    \n",
    "    for i in range(0,10):\n",
    "        tmp = soup.find_all('dt','question')[i]\n",
    "        tmp2 = soup.find_all('dd','answer')[i].get_text()\n",
    "        tmp.find('a').get_text()\n",
    "        tmp2.find.append(tmp2)\n",
    "\n",
    "\n",
    "tmp\n",
    "tmp2\n",
    "from konlpy.tag import Kkma\n",
    "Kkma=Kkma()\n",
    "\n",
    "for i in range(0,100):\n",
    "    res1+=res[i]\n",
    "res1\n",
    "\n",
    "nouns1=Kkma.nouns(res1)\n",
    "nouns1\n",
    "\n",
    "\n",
    "\n",
    "#3 \n",
    "# re.match(\"[A-Za-z\\s0-9\\.]+\\@[A-Za-z\\s0-9_]+\\.[A-Za-z\\.]+\",\"gd.park@test.co.kr\")\n",
    "# re.match(\"[A-Za-z\\s0-9\\.]+\\@[A-Za-z\\s0-9_]+\\.[A-Za-z\\.]+\",\"kim@abc \")\n"
   ]
  }
 ],
 "metadata": {
  "language_info": {
   "codemirror_mode": {
    "name": "ipython",
    "version": 3
   },
   "file_extension": ".py",
   "mimetype": "text/x-python",
   "name": "python",
   "nbconvert_exporter": "python",
   "pygments_lexer": "ipython3",
   "version": "3.7.7-final"
  },
  "orig_nbformat": 2,
  "kernelspec": {
   "name": "python37764bit940e9a0491dc4d3e8247a21ac52a332e",
   "display_name": "Python 3.7.7 64-bit"
  }
 },
 "nbformat": 4,
 "nbformat_minor": 2
}