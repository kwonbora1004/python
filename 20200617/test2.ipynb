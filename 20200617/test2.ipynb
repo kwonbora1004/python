{
 "cells": [
  {
   "cell_type": "code",
   "execution_count": 104,
   "metadata": {},
   "outputs": [
    {
     "output_type": "stream",
     "name": "stdout",
     "text": "nan\n"
    },
    {
     "output_type": "execute_result",
     "data": {
      "text/plain": "nan"
     },
     "metadata": {},
     "execution_count": 104
    }
   ],
   "source": [
    "from numpy import NaN, NAN, nan \n",
    "import pandas as pd \n",
    "import numpy as np \n",
    "print(nan)\n",
    "\n",
    "visited = pd.read_csv('survey_visited.csv')\n",
    "survey = pd.read_csv('survey_survey.csv')\n",
    "visited\n",
    "survey\n",
    "visited\n",
    "\n",
    "vs = visited.merge(survey, left_on='ident', right_on='taken')\n",
    "# print(vs)\n",
    "\n",
    "num = pd.Series({\n",
    "    'dog':4 , 'amoeba':nan\n",
    "})\n",
    "\n",
    "num\n",
    "\n",
    "gap = pd.read_csv('gapminder.tsv' , sep = '\\t')\n",
    "gap.head()\n",
    "#year 그룹화 - > 기대수명의 평균 \n",
    "\n",
    "res = gap.groupby(['year'])['lifeExp'].mean()\n",
    "\n",
    "#2002년도 출력  loc -  행 인덱스 직접   \n",
    "res.loc[2002]\n",
    "res.iloc[10]\n",
    "res.iloc[-2]\n",
    "\n",
    "\n",
    "res.loc['2002':].mean()\n",
    "\n",
    "ebola = pd.read_csv('country_timeseries.csv')\n",
    "# ebola.info()\n",
    "ebola.count()\n",
    "#각 컬럼별 null의 갯수 출력 \n",
    "ebola.shape[0] - ebola.count()\n",
    "\n",
    "np.count_nonzero(ebola.isnull()) #true의 갯수 \n",
    "\n",
    "np.count_nonzero(ebola['Cases_Guinea'].isnull())\n",
    "\n",
    "ebola.shape \n",
    "\n",
    "ebola.dropna()\n",
    "\n",
    "ebola.columns\n",
    "#'Cases_Guinea', 'Cases_Liberia', 'Cases_SierraLeone'\n",
    "#모두 더한다음 'Cases_multiple 을 생성'   = 칼럼 추가 \n",
    "\n",
    "ebola['Cases_multiple'] = ebola['Cases_Guinea'] + ebola['Cases_Liberia'] + ebola['Cases_SierraLeone']  # feature engineering\n",
    " \n",
    "#ebola[['Cases_Guinea','Cases_Liberia','Cases_SierraLeone','Cases_multiple']]\n",
    "\n",
    "ebola.loc[:,['Cases_Guinea','Cases_Liberia','Cases_SierraLeone','Cases_multiple']]\n",
    "\n",
    "#Cases_Guinea의 합계출력\n",
    "# ebola['Cases_Guinea'].sum()\n",
    "ebola.Cases_Guinea.sum(skipna=False) # skipna=True 디폴트\n"
   ]
  },
  {
   "cell_type": "code",
   "execution_count": 117,
   "metadata": {},
   "outputs": [
    {
     "output_type": "execute_result",
     "data": {
      "text/plain": "       year            artist                    track  time date.entered  \\\n0      2000             2 Pac  Baby Don't Cry (Keep...  4:22   2000-02-26   \n1      2000           2Ge+her  The Hardest Part Of ...  3:15   2000-09-02   \n2      2000      3 Doors Down               Kryptonite  3:53   2000-04-08   \n3      2000      3 Doors Down                    Loser  4:24   2000-10-21   \n4      2000          504 Boyz            Wobble Wobble  3:35   2000-04-15   \n...     ...               ...                      ...   ...          ...   \n24087  2000       Yankee Grey     Another Nine Minutes  3:10   2000-04-29   \n24088  2000  Yearwood, Trisha          Real Live Woman  3:55   2000-04-01   \n24089  2000   Ying Yang Twins  Whistle While You Tw...  4:19   2000-03-18   \n24090  2000     Zombie Nation            Kernkraft 400  3:30   2000-09-02   \n24091  2000   matchbox twenty                     Bent  4:12   2000-04-29   \n\n       week  rank  \n0       wk1  87.0  \n1       wk1  91.0  \n2       wk1  81.0  \n3       wk1  76.0  \n4       wk1  57.0  \n...     ...   ...  \n24087  wk76   NaN  \n24088  wk76   NaN  \n24089  wk76   NaN  \n24090  wk76   NaN  \n24091  wk76   NaN  \n\n[24092 rows x 7 columns]",
      "text/html": "<div>\n<style scoped>\n    .dataframe tbody tr th:only-of-type {\n        vertical-align: middle;\n    }\n\n    .dataframe tbody tr th {\n        vertical-align: top;\n    }\n\n    .dataframe thead th {\n        text-align: right;\n    }\n</style>\n<table border=\"1\" class=\"dataframe\">\n  <thead>\n    <tr style=\"text-align: right;\">\n      <th></th>\n      <th>year</th>\n      <th>artist</th>\n      <th>track</th>\n      <th>time</th>\n      <th>date.entered</th>\n      <th>week</th>\n      <th>rank</th>\n    </tr>\n  </thead>\n  <tbody>\n    <tr>\n      <th>0</th>\n      <td>2000</td>\n      <td>2 Pac</td>\n      <td>Baby Don't Cry (Keep...</td>\n      <td>4:22</td>\n      <td>2000-02-26</td>\n      <td>wk1</td>\n      <td>87.0</td>\n    </tr>\n    <tr>\n      <th>1</th>\n      <td>2000</td>\n      <td>2Ge+her</td>\n      <td>The Hardest Part Of ...</td>\n      <td>3:15</td>\n      <td>2000-09-02</td>\n      <td>wk1</td>\n      <td>91.0</td>\n    </tr>\n    <tr>\n      <th>2</th>\n      <td>2000</td>\n      <td>3 Doors Down</td>\n      <td>Kryptonite</td>\n      <td>3:53</td>\n      <td>2000-04-08</td>\n      <td>wk1</td>\n      <td>81.0</td>\n    </tr>\n    <tr>\n      <th>3</th>\n      <td>2000</td>\n      <td>3 Doors Down</td>\n      <td>Loser</td>\n      <td>4:24</td>\n      <td>2000-10-21</td>\n      <td>wk1</td>\n      <td>76.0</td>\n    </tr>\n    <tr>\n      <th>4</th>\n      <td>2000</td>\n      <td>504 Boyz</td>\n      <td>Wobble Wobble</td>\n      <td>3:35</td>\n      <td>2000-04-15</td>\n      <td>wk1</td>\n      <td>57.0</td>\n    </tr>\n    <tr>\n      <th>...</th>\n      <td>...</td>\n      <td>...</td>\n      <td>...</td>\n      <td>...</td>\n      <td>...</td>\n      <td>...</td>\n      <td>...</td>\n    </tr>\n    <tr>\n      <th>24087</th>\n      <td>2000</td>\n      <td>Yankee Grey</td>\n      <td>Another Nine Minutes</td>\n      <td>3:10</td>\n      <td>2000-04-29</td>\n      <td>wk76</td>\n      <td>NaN</td>\n    </tr>\n    <tr>\n      <th>24088</th>\n      <td>2000</td>\n      <td>Yearwood, Trisha</td>\n      <td>Real Live Woman</td>\n      <td>3:55</td>\n      <td>2000-04-01</td>\n      <td>wk76</td>\n      <td>NaN</td>\n    </tr>\n    <tr>\n      <th>24089</th>\n      <td>2000</td>\n      <td>Ying Yang Twins</td>\n      <td>Whistle While You Tw...</td>\n      <td>4:19</td>\n      <td>2000-03-18</td>\n      <td>wk76</td>\n      <td>NaN</td>\n    </tr>\n    <tr>\n      <th>24090</th>\n      <td>2000</td>\n      <td>Zombie Nation</td>\n      <td>Kernkraft 400</td>\n      <td>3:30</td>\n      <td>2000-09-02</td>\n      <td>wk76</td>\n      <td>NaN</td>\n    </tr>\n    <tr>\n      <th>24091</th>\n      <td>2000</td>\n      <td>matchbox twenty</td>\n      <td>Bent</td>\n      <td>4:12</td>\n      <td>2000-04-29</td>\n      <td>wk76</td>\n      <td>NaN</td>\n    </tr>\n  </tbody>\n</table>\n<p>24092 rows × 7 columns</p>\n</div>"
     },
     "metadata": {},
     "execution_count": 117
    }
   ],
   "source": [
    "pew = pd.read_csv('pew.csv')\n",
    "pl = pd.melt(pew, id_vars='religion' , var_name='income',value_name='count')\n",
    "pl\n",
    "#데이터 출력 구조 바꿀때 melt\n",
    "# Agnostic < $10k  27 \n",
    "# Atheist < $10k  12\n",
    "# 피벗. 멜트 wide to wrong\n",
    "\n",
    "bb = pd.read_csv('billboard.csv')\n",
    "pd.melt(bb, id_vars=['year','artist','track','time','date.entered'], var_name='week',value_name='rank')\n",
    "\n",
    "\n",
    "\n"
   ]
  }
 ],
 "metadata": {
  "language_info": {
   "codemirror_mode": {
    "name": "ipython",
    "version": 3
   },
   "file_extension": ".py",
   "mimetype": "text/x-python",
   "name": "python",
   "nbconvert_exporter": "python",
   "pygments_lexer": "ipython3",
   "version": "3.7.7-final"
  },
  "orig_nbformat": 2,
  "kernelspec": {
   "name": "python37764bit940e9a0491dc4d3e8247a21ac52a332e",
   "display_name": "Python 3.7.7 64-bit"
  }
 },
 "nbformat": 4,
 "nbformat_minor": 2
}