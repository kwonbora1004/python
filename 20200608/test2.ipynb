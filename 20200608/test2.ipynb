{
 "cells": [
  {
   "cell_type": "code",
   "execution_count": 4,
   "metadata": {},
   "outputs": [
    {
     "output_type": "execute_result",
     "data": {
      "text/plain": "0       [낙지전골,  낙지복음]\n1               [감자탕]\n2         [추어탕, 다슬기탕]\n3               [전골류]\n4       [어탕국수, 메기매운탕]\n            ...      \n1129            [삼겹살]\n1130            [삼겹살]\n1131          [메기매운탕]\n1132            [탕수육]\n1133          [산채비빔밥]\nName: 주메뉴, Length: 1134, dtype: object"
     },
     "metadata": {},
     "execution_count": 4
    }
   ],
   "source": [
    "import matplotlib.pyplot as plt \n",
    "import numpy as np\n",
    "import pandas as pd\n",
    "from matplotlib import pyplot as plt \n",
    "import matplotlib.pyplot as plt \n",
    "\n",
    "df=pd.read_csv(\"21.모범음식점현황(사전정보공표181231).csv\", encoding='cp949')\n",
    "\n",
    "df['주메뉴'].apply(lambda x : x.split(','))"
   ]
  },
  {
   "cell_type": "code",
   "execution_count": null,
   "metadata": {},
   "outputs": [],
   "source": [
    "import numpy as np \n",
    "import pandas as pd \n",
    "import matplotlib.pyplot as plt \n",
    "\n",
    "df=pd.read_csv(\"01. CCTV_in_Seoul.csv\",encoding='utf-8')\n",
    "df.head(6)\n",
    "df.columns\n",
    "df.columns[0]\n",
    "df['기관명']\n",
    "df.loc[:,['기관명']]\n",
    "df.rename(columns={'기관명':'구별'})\n",
    "df_cctv"
   ]
  }
 ],
 "metadata": {
  "language_info": {
   "codemirror_mode": {
    "name": "ipython",
    "version": 3
   },
   "file_extension": ".py",
   "mimetype": "text/x-python",
   "name": "python",
   "nbconvert_exporter": "python",
   "pygments_lexer": "ipython3",
   "version": "3.7.7-final"
  },
  "orig_nbformat": 2,
  "kernelspec": {
   "name": "python37764bit940e9a0491dc4d3e8247a21ac52a332e",
   "display_name": "Python 3.7.7 64-bit"
  }
 },
 "nbformat": 4,
 "nbformat_minor": 2
}