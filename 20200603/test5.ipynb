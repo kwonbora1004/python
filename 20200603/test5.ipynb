{
 "cells": [
  {
   "cell_type": "code",
   "execution_count": 25,
   "metadata": {},
   "outputs": [
    {
     "output_type": "execute_result",
     "data": {
      "text/plain": "   col1  col2\na  10.0   2.0\nb  11.0   4.0\nc  12.0   2.0",
      "text/html": "<div>\n<style scoped>\n    .dataframe tbody tr th:only-of-type {\n        vertical-align: middle;\n    }\n\n    .dataframe tbody tr th {\n        vertical-align: top;\n    }\n\n    .dataframe thead th {\n        text-align: right;\n    }\n</style>\n<table border=\"1\" class=\"dataframe\">\n  <thead>\n    <tr style=\"text-align: right;\">\n      <th></th>\n      <th>col1</th>\n      <th>col2</th>\n    </tr>\n  </thead>\n  <tbody>\n    <tr>\n      <th>a</th>\n      <td>10.0</td>\n      <td>2.0</td>\n    </tr>\n    <tr>\n      <th>b</th>\n      <td>11.0</td>\n      <td>4.0</td>\n    </tr>\n    <tr>\n      <th>c</th>\n      <td>12.0</td>\n      <td>2.0</td>\n    </tr>\n  </tbody>\n</table>\n</div>"
     },
     "metadata": {},
     "execution_count": 25
    }
   ],
   "source": [
    "import numpy as np \n",
    "import pandas as pd \n",
    "\n",
    "#df = pd.read_csv(\"student.csv\",sep=\",\",header=0,skiprows=1,columns=[])\n",
    "df = pd.read_csv(\"student.csv\",sep=\",\",header=None, skiprows=1,\n",
    "                names=['col1','col2','col3','col4','col5','col6','col7'],\n",
    "                index_col='col6')\n",
    "df.shape\n",
    "#df.loc[157.1]\n",
    "df\n",
    "\n",
    "df2 = pd.DataFrame([[10,2],[11,4],[12,2],[13,4],[14,2],[15,4]],\n",
    "            columns = ['col1','col2'], index = ['a','b','c','d','e','f'])\n",
    "\n",
    "df3 = df2.reindex(['a','a1','b','b1','c','c1'])\n",
    "#NaN(Not a number)\n",
    "df3['col1'].isnull()\n",
    "df3.isnull()\n",
    "df3['col1'].fillna(0)\n",
    "df3.fillna(0)\n",
    "df3.fillna(method='pad')\n",
    "df3.dropna()"
   ]
  },
  {
   "cell_type": "code",
   "execution_count": null,
   "metadata": {},
   "outputs": [],
   "source": [
    "json => {'name': 'test', 'age': 'test'}\n",
    "var test = json\n"
   ]
  },
  {
   "cell_type": "code",
   "execution_count": 28,
   "metadata": {},
   "outputs": [
    {
     "output_type": "execute_result",
     "data": {
      "text/plain": "       sex  age  grade absence bloodtype  height  weight\n0     male   20      2       N         O   157.1    52.3\n1   female   24      2       Y         O   160.8    53.6\n2     male   28      2       N         O   160.5    53.4\n3     male   22      2       N        AB   159.0    52.2\n4   female   23      2       N         O   160.9    53.1\n..     ...  ...    ...     ...       ...     ...     ...\n95  female   27      4       Y         A   154.9    63.2\n96  female   27      1       N         O   156.7    73.6\n97    male   23      3       Y         B   173.4    62.5\n98    male   25      3       Y         O   167.7    74.6\n99  female   28      3       N         A   179.3    71.9\n\n[100 rows x 7 columns]",
      "text/html": "<div>\n<style scoped>\n    .dataframe tbody tr th:only-of-type {\n        vertical-align: middle;\n    }\n\n    .dataframe tbody tr th {\n        vertical-align: top;\n    }\n\n    .dataframe thead th {\n        text-align: right;\n    }\n</style>\n<table border=\"1\" class=\"dataframe\">\n  <thead>\n    <tr style=\"text-align: right;\">\n      <th></th>\n      <th>sex</th>\n      <th>age</th>\n      <th>grade</th>\n      <th>absence</th>\n      <th>bloodtype</th>\n      <th>height</th>\n      <th>weight</th>\n    </tr>\n  </thead>\n  <tbody>\n    <tr>\n      <th>0</th>\n      <td>male</td>\n      <td>20</td>\n      <td>2</td>\n      <td>N</td>\n      <td>O</td>\n      <td>157.1</td>\n      <td>52.3</td>\n    </tr>\n    <tr>\n      <th>1</th>\n      <td>female</td>\n      <td>24</td>\n      <td>2</td>\n      <td>Y</td>\n      <td>O</td>\n      <td>160.8</td>\n      <td>53.6</td>\n    </tr>\n    <tr>\n      <th>2</th>\n      <td>male</td>\n      <td>28</td>\n      <td>2</td>\n      <td>N</td>\n      <td>O</td>\n      <td>160.5</td>\n      <td>53.4</td>\n    </tr>\n    <tr>\n      <th>3</th>\n      <td>male</td>\n      <td>22</td>\n      <td>2</td>\n      <td>N</td>\n      <td>AB</td>\n      <td>159.0</td>\n      <td>52.2</td>\n    </tr>\n    <tr>\n      <th>4</th>\n      <td>female</td>\n      <td>23</td>\n      <td>2</td>\n      <td>N</td>\n      <td>O</td>\n      <td>160.9</td>\n      <td>53.1</td>\n    </tr>\n    <tr>\n      <th>...</th>\n      <td>...</td>\n      <td>...</td>\n      <td>...</td>\n      <td>...</td>\n      <td>...</td>\n      <td>...</td>\n      <td>...</td>\n    </tr>\n    <tr>\n      <th>95</th>\n      <td>female</td>\n      <td>27</td>\n      <td>4</td>\n      <td>Y</td>\n      <td>A</td>\n      <td>154.9</td>\n      <td>63.2</td>\n    </tr>\n    <tr>\n      <th>96</th>\n      <td>female</td>\n      <td>27</td>\n      <td>1</td>\n      <td>N</td>\n      <td>O</td>\n      <td>156.7</td>\n      <td>73.6</td>\n    </tr>\n    <tr>\n      <th>97</th>\n      <td>male</td>\n      <td>23</td>\n      <td>3</td>\n      <td>Y</td>\n      <td>B</td>\n      <td>173.4</td>\n      <td>62.5</td>\n    </tr>\n    <tr>\n      <th>98</th>\n      <td>male</td>\n      <td>25</td>\n      <td>3</td>\n      <td>Y</td>\n      <td>O</td>\n      <td>167.7</td>\n      <td>74.6</td>\n    </tr>\n    <tr>\n      <th>99</th>\n      <td>female</td>\n      <td>28</td>\n      <td>3</td>\n      <td>N</td>\n      <td>A</td>\n      <td>179.3</td>\n      <td>71.9</td>\n    </tr>\n  </tbody>\n</table>\n<p>100 rows × 7 columns</p>\n</div>"
     },
     "metadata": {},
     "execution_count": 28
    }
   ],
   "source": [
    "#비만도 계산법 bmi 지수 =몸무게(kg) /(신장(m)X(신장(m)))\n",
    "import numpy as np \n",
    "import pandas as pd \n",
    "\n",
    "df = pd.read_csv(\"student.csv\")\n",
    "df\n"
   ]
  },
  {
   "cell_type": "code",
   "execution_count": 46,
   "metadata": {},
   "outputs": [
    {
     "output_type": "execute_result",
     "data": {
      "text/plain": "          0         1         2\n0 -0.570036  0.000000  0.000000\n1 -1.821184  0.000000  0.000000\n2 -0.922873  0.000000  0.032136\n3 -0.011716  0.000000 -0.640048\n4  0.517821  0.158318 -0.428047\n5 -0.448459 -0.252912  0.341466\n6  0.102297  0.334770 -0.360684",
      "text/html": "<div>\n<style scoped>\n    .dataframe tbody tr th:only-of-type {\n        vertical-align: middle;\n    }\n\n    .dataframe tbody tr th {\n        vertical-align: top;\n    }\n\n    .dataframe thead th {\n        text-align: right;\n    }\n</style>\n<table border=\"1\" class=\"dataframe\">\n  <thead>\n    <tr style=\"text-align: right;\">\n      <th></th>\n      <th>0</th>\n      <th>1</th>\n      <th>2</th>\n    </tr>\n  </thead>\n  <tbody>\n    <tr>\n      <th>0</th>\n      <td>-0.570036</td>\n      <td>0.000000</td>\n      <td>0.000000</td>\n    </tr>\n    <tr>\n      <th>1</th>\n      <td>-1.821184</td>\n      <td>0.000000</td>\n      <td>0.000000</td>\n    </tr>\n    <tr>\n      <th>2</th>\n      <td>-0.922873</td>\n      <td>0.000000</td>\n      <td>0.032136</td>\n    </tr>\n    <tr>\n      <th>3</th>\n      <td>-0.011716</td>\n      <td>0.000000</td>\n      <td>-0.640048</td>\n    </tr>\n    <tr>\n      <th>4</th>\n      <td>0.517821</td>\n      <td>0.158318</td>\n      <td>-0.428047</td>\n    </tr>\n    <tr>\n      <th>5</th>\n      <td>-0.448459</td>\n      <td>-0.252912</td>\n      <td>0.341466</td>\n    </tr>\n    <tr>\n      <th>6</th>\n      <td>0.102297</td>\n      <td>0.334770</td>\n      <td>-0.360684</td>\n    </tr>\n  </tbody>\n</table>\n</div>"
     },
     "metadata": {},
     "execution_count": 46
    }
   ],
   "source": [
    "string_data = pd.Series(['aardvark','artichoke','np.nan','avocado'])\n",
    "string_data\n",
    "\n",
    "string_data.isnull()\n",
    "\n",
    "string_data[0]=None\n",
    "string_data.isnull()\n",
    "from numpy import nan as NA \n",
    "\n",
    "data =pd.Series([1, NA, 3.5, NA, 7])\n",
    "data.dropna()\n",
    "\n",
    "data = pd.DataFrame([[1.,6.5,3.],[1.,NA,NA],\n",
    "[NA,NA,NA],[NA,6.5,3.]])\n",
    "\n",
    "cleaned = data.dropna()\n",
    "data\n",
    "cleaned\n",
    "\n",
    "data.dropna(how='all')\n",
    "data[4]=NA\n",
    "data\n",
    "data.dropna(axis=1,how='all')\n",
    "\n",
    "df = pd.DataFrame(np.random.randn(7,3))\n",
    "df.iloc[:4,1] = NA\n",
    "df.iloc[:2,2] = NA\n",
    "df\n",
    "df.dropna()\n",
    "df.dropna(thresh=2)\n",
    "df.fillna(0)"
   ]
  }
 ],
 "metadata": {
  "language_info": {
   "codemirror_mode": {
    "name": "ipython",
    "version": 3
   },
   "file_extension": ".py",
   "mimetype": "text/x-python",
   "name": "python",
   "nbconvert_exporter": "python",
   "pygments_lexer": "ipython3",
   "version": "3.7.7-final"
  },
  "orig_nbformat": 2,
  "kernelspec": {
   "name": "python37764bit940e9a0491dc4d3e8247a21ac52a332e",
   "display_name": "Python 3.7.7 64-bit"
  }
 },
 "nbformat": 4,
 "nbformat_minor": 2
}